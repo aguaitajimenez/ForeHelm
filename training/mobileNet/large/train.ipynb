{
 "cells": [
  {
   "cell_type": "markdown",
   "metadata": {},
   "source": [
    "# MobileNetV3 - Largo\n",
    "[Followed the following tutorial](www.youtube.com/watch?v=XO1wAvSi1F0)\n",
    "\n",
    "[Keras API](https://keras.io/api/applications/mobilenet/)\n",
    "\n",
    "[TensorFlow](https://www.tensorflow.org/api_docs/python/tf/keras/applications/MobileNetV3Small)"
   ]
  },
  {
   "cell_type": "code",
   "execution_count": null,
   "metadata": {},
   "outputs": [],
   "source": [
    "import numpy as np\n",
    "import tensorflow as tf\n",
    "\n",
    "mobilenet = tf.keras.applications.MobileNetV3Small(\n",
    "    input_shape=(480,480,3),\n",
    "    alpha=1.0,\n",
    "    minimalistic=False,\n",
    "    include_top=True,\n",
    "    weights=None,\n",
    "    input_tensor=None,\n",
    "    classes=8,\n",
    "    pooling=None,\n",
    "    dropout_rate=0.2,\n",
    "    classifier_activation=\"softmax\",\n",
    "    include_preprocessing=True,\n",
    "    name=\"MobileNetV3Small\",\n",
    ")\n",
    "\n",
    "\n",
    "mobilenet.summary()\n",
    "mobilenet.compile()\n"
   ]
  }
 ],
 "metadata": {
  "kernelspec": {
   "display_name": "Python 3",
   "language": "python",
   "name": "python3"
  },
  "language_info": {
   "codemirror_mode": {
    "name": "ipython",
    "version": 3
   },
   "file_extension": ".py",
   "mimetype": "text/x-python",
   "name": "python",
   "nbconvert_exporter": "python",
   "pygments_lexer": "ipython3",
   "version": "3.11.9"
  }
 },
 "nbformat": 4,
 "nbformat_minor": 2
}
