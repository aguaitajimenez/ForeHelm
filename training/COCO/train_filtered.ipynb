{
 "cells": [
  {
   "cell_type": "markdown",
   "metadata": {},
   "source": [
    "# Introduction\n",
    "This file will be used to format the training set for the different tests\n",
    "\n",
    "We will begin by clearing folders that have been created by this same script. So we can get a fresh setup"
   ]
  },
  {
   "cell_type": "code",
   "execution_count": null,
   "metadata": {},
   "outputs": [],
   "source": [
    "%reset -f\n",
    "import os\n",
    "import shutil\n",
    "\n",
    "# Path to the 'dataset' folder\n",
    "dataset_folder = \"datasets\"\n",
    "\n",
    "# List of folders to keep (Modify this if needed)\n",
    "folders_to_keep = []  # Example: [\"images\", \"labels\"]\n",
    "\n",
    "# Check if the dataset folder exists\n",
    "if not os.path.exists(dataset_folder):\n",
    "    print(f\"Error: The folder '{dataset_folder}' does not exist.\")\n",
    "else:\n",
    "    # Iterate through all items in the dataset folder\n",
    "    for item in os.listdir(dataset_folder):\n",
    "        item_path = os.path.join(dataset_folder, item)\n",
    "        \n",
    "        # Check if the item is not in the keep list\n",
    "        if item not in folders_to_keep:\n",
    "            # Remove the folder or file\n",
    "            if os.path.isdir(item_path):\n",
    "                shutil.rmtree(item_path)  # Remove directories\n",
    "                print(f\"Removed folder: {item_path}\")\n",
    "            else:\n",
    "                os.remove(item_path)  # Remove files\n",
    "                print(f\"Removed file: {item_path}\")\n",
    "\n",
    "print(\"Cleanup completed.\")\n",
    "\n",
    "\n"
   ]
  },
  {
   "cell_type": "markdown",
   "metadata": {},
   "source": [
    "The following code downloads the COCO dataset from github."
   ]
  },
  {
   "cell_type": "code",
   "execution_count": null,
   "metadata": {},
   "outputs": [],
   "source": [
    "from ultralytics.utils.downloads import download\n",
    "from pathlib import Path\n",
    "\n",
    "# Define the dataset folder path\n",
    "dataset_dir = Path().parent / \"datasets\"  # Set dataset path relative to the script\n",
    "\n",
    "# Ensure the dataset folder exists\n",
    "dataset_dir.mkdir(parents=True, exist_ok=True)\n",
    "\n",
    "# Download labels\n",
    "segments = True  # segment or box labels\n",
    "url = 'https://github.com/ultralytics/assets/releases/download/v0.0.0/'\n",
    "urls = [url + ('coco2017labels-segments.zip' if segments else 'coco2017labels.zip')]  # labels\n",
    "download(urls, dir=dataset_dir / 'labels')\n",
    "\n",
    "# Download images\n",
    "urls = [\n",
    "    'http://images.cocodataset.org/zips/train2017.zip',  # 19G, 118k images\n",
    "    'http://images.cocodataset.org/zips/val2017.zip'  # 1G, 5k images\n",
    "    # ,'http://images.cocodataset.org/zips/test2017.zip'  # 7G, 41k images (optional)\n",
    "]\n",
    "download(urls, dir=dataset_dir / 'images', threads=3)\n",
    "\n",
    "print(f\"Labels saved to {dataset_dir / 'labels'}\")\n",
    "print(f\"Images saved to {dataset_dir / 'images'}\")\n"
   ]
  },
  {
   "cell_type": "markdown",
   "metadata": {},
   "source": [
    "# Image reordering\n",
    "Copies all the images from ~/datasets/coco into the /dataset folder"
   ]
  },
  {
   "cell_type": "code",
   "execution_count": null,
   "metadata": {},
   "outputs": [],
   "source": [
    "%reset -f\n",
    "import os\n",
    "import shutil\n",
    "from tqdm import tqdm\n",
    "\n",
    "# Define source directories\n",
    "coco_train_images = os.path.expanduser(\"datasets/images/train2017\")\n",
    "coco_val_images = os.path.expanduser(\"datasets/images/val2017\")\n",
    "coco_train_labels = os.path.expanduser(\"datasets/labels/coco/labels/train2017\")\n",
    "coco_val_labels = os.path.expanduser(\"datasets/labels/coco/labels/val2017\")\n",
    "\n",
    "# Define target directories\n",
    "dataset_images = \"datasets/images\"\n",
    "dataset_labels = \"datasets/labels\"\n",
    "\n",
    "# Ensure target directories exist\n",
    "os.makedirs(dataset_images, exist_ok=True)\n",
    "os.makedirs(dataset_labels, exist_ok=True)\n",
    "\n",
    "# Helper function to copy files\n",
    "def copy_files(source_dir, target_dir, file_extension, phase_name):\n",
    "    \"\"\"\n",
    "    Copy files with a specific extension from source_dir to target_dir.\n",
    "\n",
    "    Args:\n",
    "        source_dir (str): Source directory path.\n",
    "        target_dir (str): Target directory path.\n",
    "        file_extension (str): File extension to filter.\n",
    "        phase_name (str): Name of the phase (e.g., 'train', 'val') for progress.\n",
    "    \"\"\"\n",
    "    files = [f for f in os.listdir(source_dir) if f.endswith(file_extension)]\n",
    "    \n",
    "    with tqdm(total=len(files), desc=f\"Copying {phase_name} files\", unit=\"file\") as pbar:\n",
    "        for file_name in files:\n",
    "            src_path = os.path.relpath(os.path.join(source_dir, file_name))\n",
    "            dst_path = os.path.relpath(os.path.join(target_dir, file_name))\n",
    "            shutil.move(src_path, dst_path)\n",
    "            pbar.update(1)\n",
    "\n",
    "# Copy files\n",
    "copy_files(coco_train_images, dataset_images, \".jpg\", \"Training Images\")\n",
    "copy_files(coco_val_images, dataset_images, \".jpg\", \"Validation Images\")\n",
    "copy_files(coco_train_labels, dataset_labels, \".txt\", \"Training Labels\")\n",
    "copy_files(coco_val_labels, dataset_labels, \".txt\", \"Validation Labels\")\n",
    "\n",
    "print(\"Files successfully copied to dataset/images and dataset/labels with relative paths.\")\n",
    "\n",
    "\n"
   ]
  },
  {
   "cell_type": "markdown",
   "metadata": {},
   "source": [
    "Clear unused files that have been downloaded from the COCO dataset"
   ]
  },
  {
   "cell_type": "code",
   "execution_count": null,
   "metadata": {},
   "outputs": [],
   "source": [
    "import os\n",
    "\n",
    "# Directories to clean\n",
    "directories = [\n",
    "    \"datasets/images\",\n",
    "    \"datasets/labels\"\n",
    "]\n",
    "\n",
    "def clean_directory(directory, extensions=[\".jpg\", \".txt\"]):\n",
    "    \"\"\"\n",
    "    Removes all files and folders from a directory except those with the specified extensions.\n",
    "    \n",
    "    Args:\n",
    "        directory (str): The directory to clean.\n",
    "        extensions (list): The file extensions to keep (default: [\".jpg\", \".txt\"]).\n",
    "    \"\"\"\n",
    "    for item in os.listdir(directory):\n",
    "        item_path = os.path.join(directory, item)\n",
    "        # Check if the item is a file and doesn't have a desired extension\n",
    "        if os.path.isfile(item_path) and not any(item.lower().endswith(ext) for ext in extensions):\n",
    "            os.remove(item_path)  # Remove the file\n",
    "        # If the item is a folder, remove it\n",
    "        elif os.path.isdir(item_path):\n",
    "            for root, dirs, files in os.walk(item_path, topdown=False):\n",
    "                for name in files:\n",
    "                    os.remove(os.path.join(root, name))\n",
    "                for name in dirs:\n",
    "                    os.rmdir(os.path.join(root, name))\n",
    "            os.rmdir(item_path)  # Remove the directory itself\n",
    "\n",
    "# Clean each directory\n",
    "for directory in directories:\n",
    "    if os.path.exists(directory):\n",
    "        clean_directory(directory)\n",
    "        print(f\"Cleaned directory: {directory}\")\n",
    "    else:\n",
    "        print(f\"Directory does not exist: {directory}\")\n",
    "\n",
    "print(\"Cleaning complete!\")\n"
   ]
  },
  {
   "cell_type": "markdown",
   "metadata": {},
   "source": [
    "### Reformat dataset to include only vehicles.\n",
    "The original dataset contains the labels of:\n",
    "\n",
    "    [\"aeroplane\", \"bicyclebike\", \"bird\", \"boat\", \"bottle\", \"bus\",\n",
    "    \"car\", \"cat\", \"chair\", \"cow\", \"diningtable\", \"dog\", \"horse\",\n",
    "    \"motorbike\", \"person\", \"pottedplant\", \"sheep\", \"sofa\", \"train\", \"tvmonitor\"]\n",
    "\n",
    "A new filtered label directory has been created so that only remain the vehicles:\n",
    "\n",
    "    [\"car\", \"bus\", \"motorbike\", \"bicyclebike\"]\n",
    "\n",
    "These new labels are stored in dataset/labels_filtered"
   ]
  },
  {
   "cell_type": "code",
   "execution_count": null,
   "metadata": {},
   "outputs": [],
   "source": [
    "# Directory containing YOLO label .txt files\n",
    "label_dir = \"datasets/labels\"  # Replace with your label directory path\n",
    "\n",
    "# Allowed Class IDs for vehicle-related objects\n",
    "ALLOWED_CLASSES = {0, 1, 2, 3, 4, 5, 6, 7}  # person, bicycle, car, motorcycle, airplane, bus, train, truck\n",
    "\n",
    "# Directory to save filtered labels\n",
    "output_dir = \"datasets/labels_filtered\"\n",
    "os.makedirs(output_dir, exist_ok=True)\n",
    "\n",
    "def filter_labels(label_file):\n",
    "    \"\"\"\n",
    "    Reads a YOLO label file, filters out unwanted classes,\n",
    "    and writes the remaining labels to a new file.\n",
    "    \"\"\"\n",
    "    input_path = os.path.join(label_dir, label_file)\n",
    "    output_path = os.path.join(output_dir, label_file)\n",
    "\n",
    "    with open(input_path, \"r\") as infile, open(output_path, \"w\") as outfile:\n",
    "        for line in infile:\n",
    "            parts = line.split()\n",
    "            class_id = int(parts[0])  # Extract class ID\n",
    "            if class_id in ALLOWED_CLASSES:\n",
    "                # Write the line if class ID is allowed\n",
    "                outfile.write(line)\n",
    "\n",
    "# List all .txt files in the label directory\n",
    "label_files = [f for f in os.listdir(label_dir) if f.endswith(\".txt\")]\n",
    "\n",
    "# Process all .txt files with a progress bar\n",
    "with tqdm(total=len(label_files), desc=\"Filtering Labels\", unit=\"file\") as pbar:\n",
    "    for file_name in label_files:\n",
    "        filter_labels(file_name)\n",
    "        pbar.update(1)\n",
    "\n",
    "print(f\"Filtered labels saved in: {output_dir}\")"
   ]
  },
  {
   "cell_type": "markdown",
   "metadata": {},
   "source": [
    "### Remove empty labels"
   ]
  },
  {
   "cell_type": "code",
   "execution_count": null,
   "metadata": {},
   "outputs": [],
   "source": [
    "# Define the path to the labels folder\n",
    "labels_folder = \"datasets/labels_filtered\"\n",
    "\n",
    "# List all .txt files in the labels folder\n",
    "label_files = [f for f in os.listdir(labels_folder) if f.endswith('.txt')]\n",
    "\n",
    "# Initialize a counter for removed files\n",
    "removed_count = 0\n",
    "\n",
    "# Check each label file and remove it if it's empty\n",
    "for label_file in label_files:\n",
    "    label_path = os.path.join(labels_folder, label_file)\n",
    "    if os.path.getsize(label_path) == 0:  # Check if the file size is 0 bytes\n",
    "        os.remove(label_path)  # Remove the empty file\n",
    "        removed_count += 1\n",
    "        # print(f\"Removed empty label: {label_file}\")\n",
    "\n",
    "# Output the result\n",
    "print(f\"Total empty labels removed: {removed_count}\")\n",
    "\n"
   ]
  },
  {
   "cell_type": "markdown",
   "metadata": {},
   "source": [
    "Counting images and filtered_labels"
   ]
  },
  {
   "cell_type": "code",
   "execution_count": null,
   "metadata": {},
   "outputs": [],
   "source": [
    "print(os.getcwd())\n",
    "# Define the paths to the images and labels folders\n",
    "images_folder = \"datasets/images\"\n",
    "labels_folder = \"datasets/labels_filtered\"\n",
    "\n",
    "# List all files in the images and labels folders\n",
    "image_files = [f for f in os.listdir(images_folder) if f.endswith('.jpg')]\n",
    "label_files = [f for f in os.listdir(labels_folder) if f.endswith('.txt')]\n",
    "\n",
    "# Count the total number of images and labels\n",
    "num_images = len(image_files)\n",
    "num_labels = len(label_files)\n",
    "\n",
    "# Check for matching files (base filenames without extensions)\n",
    "image_basenames = {os.path.splitext(f)[0] for f in image_files}\n",
    "label_basenames = {os.path.splitext(f)[0] for f in label_files}\n",
    "\n",
    "# Count matched and unmatched files\n",
    "matched_files = image_basenames & label_basenames\n",
    "unmatched_images = image_basenames - label_basenames\n",
    "unmatched_labels = label_basenames - image_basenames\n",
    "\n",
    "print(f\"Total images: {num_images}\")\n",
    "print(f\"Total labels: {num_labels}\")\n",
    "print(f\"Matched files: {len(matched_files)}\")\n",
    "print(f\"Unmatched images: {len(unmatched_images)}\")\n",
    "print(f\"Unmatched labels: {len(unmatched_labels)}\")\n",
    "\n",
    "# Optionally print the unmatched files\n",
    "if unmatched_images:\n",
    "    print(\"Unmatched images (no corresponding label):\")\n",
    "    for img in unmatched_images:\n",
    "        print(f\"  {img}\")\n",
    "\n",
    "if unmatched_labels:\n",
    "    print(\"Unmatched labels (no corresponding image):\")\n",
    "    for lbl in unmatched_labels:\n",
    "        print(f\"  {lbl}\")\n"
   ]
  },
  {
   "cell_type": "markdown",
   "metadata": {},
   "source": [
    "Create the folder of images_filtered with a reduced number of unlabellel images.\n",
    "The ratio of labelled images and unlabelled images has been set to 50/50. "
   ]
  },
  {
   "cell_type": "code",
   "execution_count": null,
   "metadata": {},
   "outputs": [],
   "source": [
    "import random\n",
    "\n",
    "# Paths\n",
    "images_folder = \"datasets/images\"\n",
    "labels_folder = \"datasets/labels_filtered\"\n",
    "output_folder = \"datasets/images_filtered\"\n",
    "\n",
    "# Ratio of labeled and unlabeled images\n",
    "r_label = 50\n",
    "r_unlabel = 100 - r_label\n",
    "\n",
    "# Ensure output directory exists\n",
    "os.makedirs(output_folder, exist_ok=True)\n",
    "\n",
    "# Get all image files and corresponding label files\n",
    "image_files = [f for f in os.listdir(images_folder) if f.endswith('.jpg')]\n",
    "label_files = [f for f in os.listdir(labels_folder) if f.endswith('.txt')]\n",
    "\n",
    "# Get the base filenames (without extensions) for labels\n",
    "label_basenames = {os.path.splitext(label)[0] for label in label_files}\n",
    "\n",
    "# Separate labeled and unlabeled images\n",
    "labeled_images = [img for img in image_files if os.path.splitext(img)[0] in label_basenames]\n",
    "unlabeled_images = [img for img in image_files if os.path.splitext(img)[0] not in label_basenames]\n",
    "\n",
    "# Check counts\n",
    "num_labeled = len(labeled_images)\n",
    "num_unlabeled_to_select = min(int(num_labeled * r_unlabel / r_label), len(unlabeled_images))\n",
    "\n",
    "# Randomly select the required number of unlabeled images\n",
    "selected_unlabeled_images = random.sample(unlabeled_images, num_unlabeled_to_select)\n",
    "\n",
    "# Combine labeled and selected unlabeled images\n",
    "images_to_copy = labeled_images + selected_unlabeled_images\n",
    "\n",
    "# Copy labeled and selected unlabeled images to the output folder with a progress bar\n",
    "with tqdm(total=len(images_to_copy), desc=\"Copying Images\", unit=\"file\") as pbar:\n",
    "    for img in images_to_copy:\n",
    "        src_path = os.path.join(images_folder, img)\n",
    "        dst_path = os.path.join(output_folder, img)\n",
    "        shutil.copy(src_path, dst_path)\n",
    "        pbar.update(1)\n",
    "\n",
    "# Output results\n",
    "print(f\"Total labeled images: {num_labeled}\")\n",
    "print(f\"Total unlabeled images selected: {len(selected_unlabeled_images)}\")\n",
    "print(f\"Total images in 'images_filtered': {len(os.listdir(output_folder))}\")\n",
    "\n"
   ]
  },
  {
   "cell_type": "markdown",
   "metadata": {},
   "source": [
    "# Create Train, Validation and Test image sets\n",
    "From the image and labels (\"dataset/images\", \"dataset/labels_filtered\")\n",
    "Create the test, validation and test sets.\n",
    "\n",
    "\n",
    "- Training is stored in (\"dataset/train/images\", \"dataset/train/labels\")\n",
    "- Validation is stored in (\"dataset/valid/images\", \"dataset/valid/labels\")\n",
    "- Test is stored in (\"dataset/test/images\", \"dataset/test/labels\")\n"
   ]
  },
  {
   "cell_type": "markdown",
   "metadata": {},
   "source": [
    "The following code takes the unfiltered images and create the corresponding training, validation and test set in the following folders:\n",
    "- dataset/train\n",
    "- dataset/valid\n",
    "- dataset/test"
   ]
  },
  {
   "cell_type": "code",
   "execution_count": null,
   "metadata": {},
   "outputs": [],
   "source": [
    "import os\n",
    "import shutil\n",
    "import random\n",
    "from tqdm import tqdm\n",
    "\n",
    "# Split data into 20% train, 5% validation, and 5% test\n",
    "train_perc = 0.8\n",
    "valid_perc = 0.1\n",
    "test_perc = 0.1\n",
    "\n",
    "# Define folder paths\n",
    "images_folder = \"datasets/images\"  # Folder containing filtered images\n",
    "labels_folder = \"datasets/labels\"  # Folder containing filtered labels\n",
    "\n",
    "train_images_folder = \"datasets/train/images\"\n",
    "train_labels_folder = \"datasets/train/labels\"\n",
    "\n",
    "valid_images_folder = \"datasets/valid/images\"\n",
    "valid_labels_folder = \"datasets/valid/labels\"\n",
    "\n",
    "test_images_folder = \"datasets/test/images\"\n",
    "test_labels_folder = \"datasets/test/labels\"\n",
    "\n",
    "# Create output directories\n",
    "for folder in [train_images_folder, train_labels_folder,\n",
    "               valid_images_folder, valid_labels_folder,\n",
    "               test_images_folder, test_labels_folder]:\n",
    "    if os.path.exists(folder):\n",
    "        # Remove the folder and its contents\n",
    "        shutil.rmtree(folder, ignore_errors=True)\n",
    "    \n",
    "    os.makedirs(folder, exist_ok=True)\n",
    "\n",
    "# Get a list of all images\n",
    "image_files = sorted(os.listdir(images_folder))\n",
    "\n",
    "# Create a list of images with and without labels\n",
    "data = []\n",
    "for image_file in image_files:\n",
    "    label_file = os.path.splitext(image_file)[0] + \".txt\"\n",
    "    if os.path.exists(os.path.join(labels_folder, label_file)):\n",
    "        data.append((image_file, label_file))  # Image has a corresponding label\n",
    "    else:\n",
    "        data.append((image_file, None))  # Image has no label (no objects detected)\n",
    "\n",
    "# Shuffle the data\n",
    "random.shuffle(data)\n",
    "\n",
    "# Calculate splits\n",
    "total_data = len(data)\n",
    "train_split = int(train_perc * total_data)\n",
    "valid_split = train_split + int(valid_perc * total_data)\n",
    "test_split = valid_split + int(test_perc * total_data)\n",
    "\n",
    "# Allocate data\n",
    "train_data = data[:train_split]\n",
    "valid_data = data[train_split:valid_split]\n",
    "test_data = data[valid_split:test_split]\n",
    "\n",
    "# Function to copy images and labels with a progress bar\n",
    "def copy_files(data, dest_images_folder, dest_labels_folder, phase_name):\n",
    "    with tqdm(total=len(data), desc=f\"Copying {phase_name}\") as pbar:\n",
    "        for image_file, label_file in data:\n",
    "            # Copy the image file\n",
    "            shutil.copy(os.path.join(images_folder, image_file), os.path.join(dest_images_folder, image_file))\n",
    "            # Copy the label file if it exists\n",
    "            if label_file:\n",
    "                shutil.copy(os.path.join(labels_folder, label_file), os.path.join(dest_labels_folder, label_file))\n",
    "            # Update progress bar\n",
    "            pbar.update(1)\n",
    "\n",
    "# Copy data to respective folders\n",
    "copy_files(train_data, train_images_folder, train_labels_folder, \"Training Data\")\n",
    "copy_files(valid_data, valid_images_folder, valid_labels_folder, \"Validation Data\")\n",
    "copy_files(test_data, test_images_folder, test_labels_folder, \"Testing Data\")\n",
    "\n",
    "print(\"Dataset split complete!\")\n",
    "print(f\"Training data: {len(train_data)} images\")\n",
    "print(f\"Validation data: {len(valid_data)} images\")\n",
    "print(f\"Testing data: {len(test_data)} images\")\n"
   ]
  },
  {
   "cell_type": "markdown",
   "metadata": {},
   "source": [
    "The following code takes the filtered images and create the corresponding training, validation and test set in the following folders:\n",
    "- dataset/train_filtered\n",
    "- dataset/valid_filtered\n",
    "- dataset/test_filtered\n"
   ]
  },
  {
   "cell_type": "code",
   "execution_count": null,
   "metadata": {},
   "outputs": [],
   "source": [
    "import os\n",
    "import shutil\n",
    "import random\n",
    "from tqdm import tqdm\n",
    "\n",
    "# Split data into 20% train, 5% validation, and 5% test\n",
    "train_perc = 0.8\n",
    "valid_perc = 0.1\n",
    "test_perc = 0.1\n",
    "\n",
    "# Define folder paths\n",
    "images_folder = \"datasets/images_filtered\"  # Folder containing filtered images\n",
    "labels_folder = \"datasets/labels_filtered\"  # Folder containing filtered labels\n",
    "\n",
    "train_images_folder = \"datasets/train_filtered/images\"\n",
    "train_labels_folder = \"datasets/train_filtered/labels\"\n",
    "\n",
    "valid_images_folder = \"datasets/valid_filtered/images\"\n",
    "valid_labels_folder = \"datasets/valid_filtered/labels\"\n",
    "\n",
    "test_images_folder = \"datasets/test_filtered/images\"\n",
    "test_labels_folder = \"datasets/test_filtered/labels\"\n",
    "\n",
    "# Create output directories\n",
    "for folder in [train_images_folder, train_labels_folder,\n",
    "               valid_images_folder, valid_labels_folder,\n",
    "               test_images_folder, test_labels_folder]:\n",
    "    if os.path.exists(folder):\n",
    "        # Remove the folder and its contents\n",
    "        shutil.rmtree(folder, ignore_errors=True)\n",
    "    \n",
    "    os.makedirs(folder, exist_ok=True)\n",
    "\n",
    "# Get a list of all images\n",
    "image_files = sorted(os.listdir(images_folder))\n",
    "\n",
    "# Create a list of images with and without labels\n",
    "data = []\n",
    "for image_file in image_files:\n",
    "    label_file = os.path.splitext(image_file)[0] + \".txt\"\n",
    "    if os.path.exists(os.path.join(labels_folder, label_file)):\n",
    "        data.append((image_file, label_file))  # Image has a corresponding label\n",
    "    else:\n",
    "        data.append((image_file, None))  # Image has no label (no objects detected)\n",
    "\n",
    "# Shuffle the data\n",
    "random.shuffle(data)\n",
    "\n",
    "# Calculate splits\n",
    "total_data = len(data)\n",
    "train_split = int(train_perc * total_data)\n",
    "valid_split = train_split + int(valid_perc * total_data)\n",
    "test_split = valid_split + int(test_perc * total_data)\n",
    "\n",
    "# Allocate data\n",
    "train_data = data[:train_split]\n",
    "valid_data = data[train_split:valid_split]\n",
    "test_data = data[valid_split:test_split]\n",
    "\n",
    "# Function to copy images and labels with a progress bar\n",
    "def copy_files(data, dest_images_folder, dest_labels_folder, phase_name):\n",
    "    with tqdm(total=len(data), desc=f\"Copying {phase_name}\") as pbar:\n",
    "        for image_file, label_file in data:\n",
    "            # Copy the image file\n",
    "            shutil.copy(os.path.join(images_folder, image_file), os.path.join(dest_images_folder, image_file))\n",
    "            # Copy the label file if it exists\n",
    "            if label_file:\n",
    "                shutil.copy(os.path.join(labels_folder, label_file), os.path.join(dest_labels_folder, label_file))\n",
    "            # Update progress bar\n",
    "            pbar.update(1)\n",
    "\n",
    "# Copy data to respective folders\n",
    "copy_files(train_data, train_images_folder, train_labels_folder, \"Training Data\")\n",
    "copy_files(valid_data, valid_images_folder, valid_labels_folder, \"Validation Data\")\n",
    "copy_files(test_data, test_images_folder, test_labels_folder, \"Testing Data\")\n",
    "\n",
    "print(\"Dataset split complete!\")\n",
    "print(f\"Training data: {len(train_data)} images\")\n",
    "print(f\"Validation data: {len(valid_data)} images\")\n",
    "print(f\"Testing data: {len(test_data)} images\")\n"
   ]
  },
  {
   "cell_type": "code",
   "execution_count": null,
   "metadata": {},
   "outputs": [],
   "source": [
    "import os\n",
    "from collections import defaultdict\n",
    "from tqdm import tqdm\n",
    "\n",
    "# Directories to process\n",
    "directories = [\n",
    "    \"datasets/labels\",\n",
    "    \"datasets/train/labels\",\n",
    "    \"datasets/valid/labels\",\n",
    "    \"datasets/test/labels\",\n",
    "    \n",
    "    \"datasets/labels_filtered\",\n",
    "    \"datasets/train_filtered/labels\",\n",
    "    \"datasets/valid_filtered/labels\",\n",
    "    \"datasets/test_filtered/labels\",\n",
    "]\n",
    "\n",
    "def count_labels_in_directory(directory):\n",
    "    \"\"\"\n",
    "    Counts the number of each class in a directory of YOLO label files with a progress bar.\n",
    "    \n",
    "    Args:\n",
    "        directory (str): Path to the directory containing label files.\n",
    "        \n",
    "    Returns:\n",
    "        dict: A dictionary with class IDs as keys and counts as values.\n",
    "    \"\"\"\n",
    "    class_counts = defaultdict(int)\n",
    "    \n",
    "    # Get all .txt files in the directory\n",
    "    label_files = [f for f in os.listdir(directory) if f.endswith(\".txt\")]\n",
    "    \n",
    "    # Process each file with a progress bar\n",
    "    with tqdm(total=len(label_files), desc=f\"Processing {directory}\", unit=\"file\") as pbar:\n",
    "        for label_file in label_files:\n",
    "            label_path = os.path.join(directory, label_file)\n",
    "            with open(label_path, \"r\") as file:\n",
    "                for line in file:\n",
    "                    parts = line.split()\n",
    "                    class_id = int(parts[0])  # Extract class ID\n",
    "                    class_counts[class_id] += 1  # Increment the count for the class ID\n",
    "            pbar.update(1)\n",
    "    \n",
    "    return class_counts\n",
    "\n",
    "# Count labels for each directory\n",
    "results = {}\n",
    "\n",
    "for directory in directories:\n",
    "    if os.path.exists(directory):\n",
    "        results[directory] = count_labels_in_directory(directory)\n",
    "    else:\n",
    "        results[directory] = None  # Directory does not exist\n",
    "\n",
    "# Display the results\n",
    "print(\"\\nClass counts per directory:\")\n",
    "for directory, class_counts in results.items():\n",
    "    print(f\"\\nDirectory: {directory}\")\n",
    "    if class_counts is not None:\n",
    "        for class_id, count in sorted(class_counts.items()):\n",
    "            print(f\"  Class {class_id}: {count}\")\n",
    "    else:\n",
    "        print(\"  Directory does not exist or contains no labels.\")\n",
    "\n"
   ]
  },
  {
   "cell_type": "markdown",
   "metadata": {},
   "source": [
    "# Load YOLO Model and Begin Training!!"
   ]
  },
  {
   "cell_type": "code",
   "execution_count": null,
   "metadata": {},
   "outputs": [],
   "source": [
    "import torch\n",
    "print(torch.__version__)\n",
    "print(torch.cuda.is_available())    \n",
    "torch.cuda.empty_cache()\n",
    "\n",
    "import os\n",
    "\n",
    "current_directory = os.getcwd()\n",
    "print(current_directory)"
   ]
  },
  {
   "cell_type": "code",
   "execution_count": null,
   "metadata": {},
   "outputs": [],
   "source": [
    "import torch\n",
    "\n",
    "# Check for available devices\n",
    "device_name = \"cuda\" if torch.cuda.is_available() else \"cpu\"\n",
    "available_devices = torch.cuda.device_count()\n",
    "\n",
    "print(f\"Device in use: {device_name}\")\n",
    "print(f\"Available CUDA devices: {available_devices}\")"
   ]
  },
  {
   "cell_type": "code",
   "execution_count": null,
   "metadata": {},
   "outputs": [],
   "source": [
    "import torch\n",
    "print(torch.version.cuda)\n",
    "print(torch.cuda.is_available())\n",
    "print(torch.cuda.current_device())\n",
    "print(torch.cuda.get_device_name(torch.cuda.current_device()))\n"
   ]
  },
  {
   "cell_type": "code",
   "execution_count": null,
   "metadata": {},
   "outputs": [],
   "source": [
    "from ultralytics import YOLO\n",
    "!yolo checks"
   ]
  },
  {
   "cell_type": "code",
   "execution_count": null,
   "metadata": {},
   "outputs": [],
   "source": [
    "from ultralytics import YOLO\n",
    "\n",
    "model16 = YOLO(\"yolo11n.yaml\")\n",
    "\n",
    "model16.train(\n",
    "    data=\"train_filtered.yaml\",\n",
    "    project=\"./base_16\",\n",
    "    pretrained=False,  \n",
    "    epochs = 200,\n",
    "    patience=10, \n",
    "    batch=16,\n",
    "    )"
   ]
  },
  {
   "cell_type": "code",
   "execution_count": null,
   "metadata": {},
   "outputs": [],
   "source": [
    "from ultralytics import YOLO\n",
    "model16 = YOLO(\"base_16/train/weights/last.pt\")\n",
    "model16.train(resume=True)"
   ]
  },
  {
   "cell_type": "code",
   "execution_count": null,
   "metadata": {},
   "outputs": [],
   "source": [
    "from ultralytics import YOLO\n",
    "\n",
    "modelX = YOLO(\"yolo11n.yaml\")\n",
    "modelX.train(\n",
    "    data=\"train_filtered.yaml\",\n",
    "    project=\"./base_X\",\n",
    "    pretrained=False,  \n",
    "    epochs = 200,\n",
    "    patience=10, \n",
    "    batch=-1,\n",
    "    )"
   ]
  },
  {
   "cell_type": "code",
   "execution_count": null,
   "metadata": {},
   "outputs": [],
   "source": [
    "from ultralytics import YOLO\n",
    "model16 = YOLO(\"base_X/train/weights/last.pt\")\n",
    "model16.train(resume=True)"
   ]
  },
  {
   "cell_type": "code",
   "execution_count": null,
   "metadata": {},
   "outputs": [
    {
     "name": "stdout",
     "output_type": "stream",
     "text": [
      "New https://pypi.org/project/ultralytics/8.3.78 available  Update with 'pip install -U ultralytics'\n",
      "Ultralytics 8.3.76  Python-3.11.9 torch-2.6.0+cu126 CUDA:0 (NVIDIA GeForce RTX 3070, 8192MiB)\n",
      "\u001b[34m\u001b[1mengine\\trainer: \u001b[0mtask=detect, mode=train, model=yolo11n.yaml, data=train_filtered.yaml, epochs=200, time=None, patience=10, batch=16, imgsz=640, save=True, save_period=-1, cache=False, device=None, workers=8, project=tuned2_16, name=train2, exist_ok=False, pretrained=False, optimizer=auto, verbose=True, seed=0, deterministic=True, single_cls=False, rect=False, cos_lr=False, close_mosaic=10, resume=False, amp=True, fraction=1.0, profile=False, freeze=None, multi_scale=False, overlap_mask=True, mask_ratio=4, dropout=0.0, val=True, split=val, save_json=False, save_hybrid=False, conf=None, iou=0.7, max_det=300, half=False, dnn=False, plots=True, source=None, vid_stride=1, stream_buffer=False, visualize=False, augment=False, agnostic_nms=False, classes=None, retina_masks=False, embed=None, show=False, save_frames=False, save_txt=False, save_conf=False, save_crop=False, show_labels=True, show_conf=True, show_boxes=True, line_width=None, format=torchscript, keras=False, optimize=False, int8=False, dynamic=False, simplify=True, opset=None, workspace=None, nms=False, lr0=0.00349, lrf=0.00968, momentum=0.94728, weight_decay=0.0008, warmup_epochs=2.03459, warmup_momentum=0.95, warmup_bias_lr=0.1, box=2.58923, cls=0.49554, dfl=1.60992, pose=12.0, kobj=1.0, nbs=64, hsv_h=0.02308, hsv_s=0.38871, hsv_v=0.31677, degrees=0.0, translate=0.10774, scale=0.30077, shear=0.0, perspective=0.0, flipud=0.0, fliplr=0.41596, bgr=0.0, mosaic=0.79305, mixup=0.0, copy_paste=0.0, copy_paste_mode=flip, auto_augment=randaugment, erasing=0.4, crop_fraction=1.0, cfg=hyperparam_tuning2/tune/best_hyperparameters.yaml, tracker=botsort.yaml, save_dir=tuned2_16\\train2\n",
      "Overriding model.yaml nc=80 with nc=8\n",
      "\n",
      "                   from  n    params  module                                       arguments                     \n",
      "  0                  -1  1       464  ultralytics.nn.modules.conv.Conv             [3, 16, 3, 2]                 \n",
      "  1                  -1  1      4672  ultralytics.nn.modules.conv.Conv             [16, 32, 3, 2]                \n",
      "  2                  -1  1      6640  ultralytics.nn.modules.block.C3k2            [32, 64, 1, False, 0.25]      \n",
      "  3                  -1  1     36992  ultralytics.nn.modules.conv.Conv             [64, 64, 3, 2]                \n",
      "  4                  -1  1     26080  ultralytics.nn.modules.block.C3k2            [64, 128, 1, False, 0.25]     \n",
      "  5                  -1  1    147712  ultralytics.nn.modules.conv.Conv             [128, 128, 3, 2]              \n",
      "  6                  -1  1     87040  ultralytics.nn.modules.block.C3k2            [128, 128, 1, True]           \n",
      "  7                  -1  1    295424  ultralytics.nn.modules.conv.Conv             [128, 256, 3, 2]              \n",
      "  8                  -1  1    346112  ultralytics.nn.modules.block.C3k2            [256, 256, 1, True]           \n",
      "  9                  -1  1    164608  ultralytics.nn.modules.block.SPPF            [256, 256, 5]                 \n",
      " 10                  -1  1    249728  ultralytics.nn.modules.block.C2PSA           [256, 256, 1]                 \n",
      " 11                  -1  1         0  torch.nn.modules.upsampling.Upsample         [None, 2, 'nearest']          \n",
      " 12             [-1, 6]  1         0  ultralytics.nn.modules.conv.Concat           [1]                           \n",
      " 13                  -1  1    111296  ultralytics.nn.modules.block.C3k2            [384, 128, 1, False]          \n",
      " 14                  -1  1         0  torch.nn.modules.upsampling.Upsample         [None, 2, 'nearest']          \n",
      " 15             [-1, 4]  1         0  ultralytics.nn.modules.conv.Concat           [1]                           \n",
      " 16                  -1  1     32096  ultralytics.nn.modules.block.C3k2            [256, 64, 1, False]           \n",
      " 17                  -1  1     36992  ultralytics.nn.modules.conv.Conv             [64, 64, 3, 2]                \n",
      " 18            [-1, 13]  1         0  ultralytics.nn.modules.conv.Concat           [1]                           \n",
      " 19                  -1  1     86720  ultralytics.nn.modules.block.C3k2            [192, 128, 1, False]          \n",
      " 20                  -1  1    147712  ultralytics.nn.modules.conv.Conv             [128, 128, 3, 2]              \n",
      " 21            [-1, 10]  1         0  ultralytics.nn.modules.conv.Concat           [1]                           \n",
      " 22                  -1  1    378880  ultralytics.nn.modules.block.C3k2            [384, 256, 1, True]           \n",
      " 23        [16, 19, 22]  1    432232  ultralytics.nn.modules.head.Detect           [8, [64, 128, 256]]           \n",
      "YOLO11n summary: 181 layers, 2,591,400 parameters, 2,591,384 gradients, 6.4 GFLOPs\n",
      "\n",
      "Freezing layer 'model.23.dfl.conv.weight'\n",
      "\u001b[34m\u001b[1mAMP: \u001b[0mrunning Automatic Mixed Precision (AMP) checks...\n",
      "\u001b[34m\u001b[1mAMP: \u001b[0mchecks passed \n"
     ]
    },
    {
     "name": "stderr",
     "output_type": "stream",
     "text": [
      "\u001b[34m\u001b[1mtrain: \u001b[0mScanning C:\\Users\\remote_student\\ForeHelm\\training\\COCO\\datasets\\train_filtered\\labels... 61133 images, 37496 backgrounds, 0 corrupt: 100%|██████████| 98629/98629 [01:02<00:00, 1575.48it/s]\n"
     ]
    },
    {
     "name": "stdout",
     "output_type": "stream",
     "text": [
      "\u001b[34m\u001b[1mtrain: \u001b[0mNew cache created: C:\\Users\\remote_student\\ForeHelm\\training\\COCO\\datasets\\train_filtered\\labels.cache\n"
     ]
    },
    {
     "name": "stderr",
     "output_type": "stream",
     "text": [
      "\u001b[34m\u001b[1mval: \u001b[0mScanning C:\\Users\\remote_student\\ForeHelm\\training\\COCO\\datasets\\valid_filtered\\labels... 7663 images, 4665 backgrounds, 0 corrupt: 100%|██████████| 12328/12328 [00:07<00:00, 1648.63it/s]\n"
     ]
    },
    {
     "name": "stdout",
     "output_type": "stream",
     "text": [
      "\u001b[34m\u001b[1mval: \u001b[0mNew cache created: C:\\Users\\remote_student\\ForeHelm\\training\\COCO\\datasets\\valid_filtered\\labels.cache\n",
      "Plotting labels to tuned2_16\\train2\\labels.jpg... \n",
      "\u001b[34m\u001b[1moptimizer:\u001b[0m 'optimizer=auto' found, ignoring 'lr0=0.00349' and 'momentum=0.94728' and determining best 'optimizer', 'lr0' and 'momentum' automatically... \n",
      "\u001b[34m\u001b[1moptimizer:\u001b[0m SGD(lr=0.01, momentum=0.9) with parameter groups 81 weight(decay=0.0), 88 weight(decay=0.0008), 87 bias(decay=0.0)\n",
      "Image sizes 640 train, 640 val\n",
      "Using 8 dataloader workers\n",
      "Logging results to \u001b[1mtuned2_16\\train2\u001b[0m\n",
      "Starting training for 200 epochs...\n",
      "\n",
      "      Epoch    GPU_mem   box_loss   cls_loss   dfl_loss  Instances       Size\n"
     ]
    },
    {
     "name": "stderr",
     "output_type": "stream",
     "text": [
      "      1/200      2.66G     0.8418      3.123      2.852         12        640: 100%|██████████| 6165/6165 [12:31<00:00,  8.20it/s]\n",
      "                 Class     Images  Instances      Box(P          R      mAP50  mAP50-95): 100%|██████████| 386/386 [01:10<00:00,  5.51it/s]\n"
     ]
    },
    {
     "name": "stdout",
     "output_type": "stream",
     "text": [
      "                   all      12328      35564      0.314      0.158       0.12      0.056\n",
      "\n",
      "      Epoch    GPU_mem   box_loss   cls_loss   dfl_loss  Instances       Size\n"
     ]
    },
    {
     "name": "stderr",
     "output_type": "stream",
     "text": [
      "      2/200       2.6G      0.601      2.105      1.983         25        640: 100%|██████████| 6165/6165 [11:19<00:00,  9.07it/s]\n",
      "                 Class     Images  Instances      Box(P          R      mAP50  mAP50-95): 100%|██████████| 386/386 [00:35<00:00, 10.85it/s]\n"
     ]
    },
    {
     "name": "stdout",
     "output_type": "stream",
     "text": [
      "                   all      12328      35564      0.371      0.265      0.246      0.133\n",
      "\n",
      "      Epoch    GPU_mem   box_loss   cls_loss   dfl_loss  Instances       Size\n"
     ]
    },
    {
     "name": "stderr",
     "output_type": "stream",
     "text": [
      "      3/200      2.76G     0.5537      1.865      1.826         16        640: 100%|██████████| 6165/6165 [10:44<00:00,  9.56it/s]\n",
      "                 Class     Images  Instances      Box(P          R      mAP50  mAP50-95): 100%|██████████| 386/386 [00:35<00:00, 10.89it/s]\n"
     ]
    },
    {
     "name": "stdout",
     "output_type": "stream",
     "text": [
      "                   all      12328      35564      0.564      0.302      0.323       0.19\n",
      "\n",
      "      Epoch    GPU_mem   box_loss   cls_loss   dfl_loss  Instances       Size\n"
     ]
    },
    {
     "name": "stderr",
     "output_type": "stream",
     "text": [
      "      4/200      2.71G     0.5285      1.726      1.746         18        640: 100%|██████████| 6165/6165 [10:35<00:00,  9.70it/s]\n",
      "                 Class     Images  Instances      Box(P          R      mAP50  mAP50-95): 100%|██████████| 386/386 [00:35<00:00, 10.98it/s]\n"
     ]
    },
    {
     "name": "stdout",
     "output_type": "stream",
     "text": [
      "                   all      12328      35564      0.521      0.341      0.365      0.222\n",
      "\n",
      "      Epoch    GPU_mem   box_loss   cls_loss   dfl_loss  Instances       Size\n"
     ]
    },
    {
     "name": "stderr",
     "output_type": "stream",
     "text": [
      "      5/200      2.67G     0.5117      1.649      1.698         42        640: 100%|██████████| 6165/6165 [10:34<00:00,  9.71it/s]\n",
      "                 Class     Images  Instances      Box(P          R      mAP50  mAP50-95): 100%|██████████| 386/386 [00:35<00:00, 11.00it/s]\n"
     ]
    },
    {
     "name": "stdout",
     "output_type": "stream",
     "text": [
      "                   all      12328      35564      0.515      0.389      0.401       0.25\n",
      "\n",
      "      Epoch    GPU_mem   box_loss   cls_loss   dfl_loss  Instances       Size\n"
     ]
    },
    {
     "name": "stderr",
     "output_type": "stream",
     "text": [
      "      6/200      2.68G     0.5019      1.592      1.663         21        640: 100%|██████████| 6165/6165 [10:39<00:00,  9.64it/s]\n",
      "                 Class     Images  Instances      Box(P          R      mAP50  mAP50-95): 100%|██████████| 386/386 [00:36<00:00, 10.61it/s]\n"
     ]
    },
    {
     "name": "stdout",
     "output_type": "stream",
     "text": [
      "                   all      12328      35564      0.529      0.401      0.424      0.269\n",
      "\n",
      "      Epoch    GPU_mem   box_loss   cls_loss   dfl_loss  Instances       Size\n"
     ]
    },
    {
     "name": "stderr",
     "output_type": "stream",
     "text": [
      "      7/200      2.67G     0.4943      1.557       1.64         14        640: 100%|██████████| 6165/6165 [10:43<00:00,  9.58it/s]\n",
      "                 Class     Images  Instances      Box(P          R      mAP50  mAP50-95): 100%|██████████| 386/386 [00:34<00:00, 11.05it/s]\n"
     ]
    },
    {
     "name": "stdout",
     "output_type": "stream",
     "text": [
      "                   all      12328      35564      0.555       0.41      0.441      0.283\n",
      "\n",
      "      Epoch    GPU_mem   box_loss   cls_loss   dfl_loss  Instances       Size\n"
     ]
    },
    {
     "name": "stderr",
     "output_type": "stream",
     "text": [
      "      8/200      2.62G     0.4876      1.523      1.621         30        640: 100%|██████████| 6165/6165 [10:34<00:00,  9.72it/s]\n",
      "                 Class     Images  Instances      Box(P          R      mAP50  mAP50-95): 100%|██████████| 386/386 [00:34<00:00, 11.04it/s]\n"
     ]
    },
    {
     "name": "stdout",
     "output_type": "stream",
     "text": [
      "                   all      12328      35564      0.574      0.415      0.454      0.293\n",
      "\n",
      "      Epoch    GPU_mem   box_loss   cls_loss   dfl_loss  Instances       Size\n"
     ]
    },
    {
     "name": "stderr",
     "output_type": "stream",
     "text": [
      "      9/200      2.67G     0.4821      1.497      1.603         24        640: 100%|██████████| 6165/6165 [10:34<00:00,  9.72it/s]\n",
      "                 Class     Images  Instances      Box(P          R      mAP50  mAP50-95): 100%|██████████| 386/386 [00:34<00:00, 11.09it/s]\n"
     ]
    },
    {
     "name": "stdout",
     "output_type": "stream",
     "text": [
      "                   all      12328      35564       0.59      0.418      0.461      0.301\n",
      "\n",
      "      Epoch    GPU_mem   box_loss   cls_loss   dfl_loss  Instances       Size\n"
     ]
    },
    {
     "name": "stderr",
     "output_type": "stream",
     "text": [
      "     10/200      2.71G      0.479      1.475      1.589         37        640: 100%|██████████| 6165/6165 [10:34<00:00,  9.72it/s]\n",
      "                 Class     Images  Instances      Box(P          R      mAP50  mAP50-95): 100%|██████████| 386/386 [00:35<00:00, 10.90it/s]\n"
     ]
    },
    {
     "name": "stdout",
     "output_type": "stream",
     "text": [
      "                   all      12328      35564      0.593      0.425      0.468      0.306\n",
      "\n",
      "      Epoch    GPU_mem   box_loss   cls_loss   dfl_loss  Instances       Size\n"
     ]
    },
    {
     "name": "stderr",
     "output_type": "stream",
     "text": [
      "     11/200      2.58G     0.4752      1.464      1.582         46        640: 100%|██████████| 6165/6165 [10:33<00:00,  9.73it/s]\n",
      "                 Class     Images  Instances      Box(P          R      mAP50  mAP50-95): 100%|██████████| 386/386 [00:34<00:00, 11.08it/s]\n"
     ]
    },
    {
     "name": "stdout",
     "output_type": "stream",
     "text": [
      "                   all      12328      35564       0.61      0.425      0.471      0.309\n",
      "\n",
      "      Epoch    GPU_mem   box_loss   cls_loss   dfl_loss  Instances       Size\n"
     ]
    },
    {
     "name": "stderr",
     "output_type": "stream",
     "text": [
      "     12/200      2.64G     0.4735      1.448      1.569         34        640: 100%|██████████| 6165/6165 [10:34<00:00,  9.72it/s]\n",
      "                 Class     Images  Instances      Box(P          R      mAP50  mAP50-95): 100%|██████████| 386/386 [00:35<00:00, 11.02it/s]\n"
     ]
    },
    {
     "name": "stdout",
     "output_type": "stream",
     "text": [
      "                   all      12328      35564      0.607      0.428      0.475      0.312\n",
      "\n",
      "      Epoch    GPU_mem   box_loss   cls_loss   dfl_loss  Instances       Size\n"
     ]
    },
    {
     "name": "stderr",
     "output_type": "stream",
     "text": [
      "     13/200      2.66G     0.4693      1.435       1.56         43        640: 100%|██████████| 6165/6165 [10:33<00:00,  9.73it/s]\n",
      "                 Class     Images  Instances      Box(P          R      mAP50  mAP50-95): 100%|██████████| 386/386 [00:35<00:00, 11.02it/s]\n"
     ]
    },
    {
     "name": "stdout",
     "output_type": "stream",
     "text": [
      "                   all      12328      35564      0.618      0.429      0.478      0.316\n",
      "\n",
      "      Epoch    GPU_mem   box_loss   cls_loss   dfl_loss  Instances       Size\n"
     ]
    },
    {
     "name": "stderr",
     "output_type": "stream",
     "text": [
      "     14/200      2.67G     0.4683      1.427      1.554         28        640: 100%|██████████| 6165/6165 [10:33<00:00,  9.73it/s]\n",
      "                 Class     Images  Instances      Box(P          R      mAP50  mAP50-95): 100%|██████████| 386/386 [00:34<00:00, 11.15it/s]\n"
     ]
    },
    {
     "name": "stdout",
     "output_type": "stream",
     "text": [
      "                   all      12328      35564      0.626      0.428      0.479      0.318\n",
      "\n",
      "      Epoch    GPU_mem   box_loss   cls_loss   dfl_loss  Instances       Size\n"
     ]
    },
    {
     "name": "stderr",
     "output_type": "stream",
     "text": [
      "     15/200      2.81G     0.4646      1.413      1.542         11        640: 100%|██████████| 6165/6165 [10:33<00:00,  9.72it/s]\n",
      "                 Class     Images  Instances      Box(P          R      mAP50  mAP50-95): 100%|██████████| 386/386 [00:34<00:00, 11.12it/s]\n"
     ]
    },
    {
     "name": "stdout",
     "output_type": "stream",
     "text": [
      "                   all      12328      35564      0.628      0.429      0.481      0.319\n",
      "\n",
      "      Epoch    GPU_mem   box_loss   cls_loss   dfl_loss  Instances       Size\n"
     ]
    },
    {
     "name": "stderr",
     "output_type": "stream",
     "text": [
      "     16/200      2.53G     0.4649       1.41      1.537         37        640: 100%|██████████| 6165/6165 [10:36<00:00,  9.69it/s]\n",
      "                 Class     Images  Instances      Box(P          R      mAP50  mAP50-95): 100%|██████████| 386/386 [00:36<00:00, 10.65it/s]\n"
     ]
    },
    {
     "name": "stdout",
     "output_type": "stream",
     "text": [
      "                   all      12328      35564      0.631      0.427      0.482      0.321\n",
      "\n",
      "      Epoch    GPU_mem   box_loss   cls_loss   dfl_loss  Instances       Size\n"
     ]
    },
    {
     "name": "stderr",
     "output_type": "stream",
     "text": [
      "     17/200      2.56G     0.4625        1.4       1.53         28        640: 100%|██████████| 6165/6165 [10:43<00:00,  9.58it/s]\n",
      "                 Class     Images  Instances      Box(P          R      mAP50  mAP50-95): 100%|██████████| 386/386 [00:35<00:00, 10.84it/s]\n"
     ]
    },
    {
     "name": "stdout",
     "output_type": "stream",
     "text": [
      "                   all      12328      35564      0.632      0.428      0.483      0.324\n",
      "\n",
      "      Epoch    GPU_mem   box_loss   cls_loss   dfl_loss  Instances       Size\n"
     ]
    },
    {
     "name": "stderr",
     "output_type": "stream",
     "text": [
      "     18/200      2.66G     0.4605      1.388      1.522         27        640: 100%|██████████| 6165/6165 [10:43<00:00,  9.58it/s]\n",
      "                 Class     Images  Instances      Box(P          R      mAP50  mAP50-95): 100%|██████████| 386/386 [00:35<00:00, 10.92it/s]\n"
     ]
    },
    {
     "name": "stdout",
     "output_type": "stream",
     "text": [
      "                   all      12328      35564      0.633      0.431      0.485      0.325\n",
      "\n",
      "      Epoch    GPU_mem   box_loss   cls_loss   dfl_loss  Instances       Size\n"
     ]
    },
    {
     "name": "stderr",
     "output_type": "stream",
     "text": [
      "     19/200      2.63G     0.4611      1.389       1.52         16        640: 100%|██████████| 6165/6165 [10:43<00:00,  9.59it/s]\n",
      "                 Class     Images  Instances      Box(P          R      mAP50  mAP50-95): 100%|██████████| 386/386 [00:35<00:00, 10.80it/s]\n"
     ]
    },
    {
     "name": "stdout",
     "output_type": "stream",
     "text": [
      "                   all      12328      35564      0.644      0.432      0.487      0.327\n",
      "\n",
      "      Epoch    GPU_mem   box_loss   cls_loss   dfl_loss  Instances       Size\n"
     ]
    },
    {
     "name": "stderr",
     "output_type": "stream",
     "text": [
      "     20/200       2.7G     0.4587      1.382      1.512         19        640: 100%|██████████| 6165/6165 [10:43<00:00,  9.58it/s]\n",
      "                 Class     Images  Instances      Box(P          R      mAP50  mAP50-95): 100%|██████████| 386/386 [00:35<00:00, 10.88it/s]\n"
     ]
    },
    {
     "name": "stdout",
     "output_type": "stream",
     "text": [
      "                   all      12328      35564       0.64      0.436      0.489      0.329\n",
      "\n",
      "      Epoch    GPU_mem   box_loss   cls_loss   dfl_loss  Instances       Size\n"
     ]
    },
    {
     "name": "stderr",
     "output_type": "stream",
     "text": [
      "     21/200      2.81G     0.4586      1.376      1.509         18        640: 100%|██████████| 6165/6165 [10:43<00:00,  9.59it/s]\n",
      "                 Class     Images  Instances      Box(P          R      mAP50  mAP50-95): 100%|██████████| 386/386 [00:35<00:00, 10.86it/s]\n"
     ]
    },
    {
     "name": "stdout",
     "output_type": "stream",
     "text": [
      "                   all      12328      35564      0.647      0.435       0.49       0.33\n",
      "\n",
      "      Epoch    GPU_mem   box_loss   cls_loss   dfl_loss  Instances       Size\n"
     ]
    },
    {
     "name": "stderr",
     "output_type": "stream",
     "text": [
      "     22/200      2.72G      0.456      1.364      1.503          7        640: 100%|██████████| 6165/6165 [10:43<00:00,  9.58it/s]\n",
      "                 Class     Images  Instances      Box(P          R      mAP50  mAP50-95): 100%|██████████| 386/386 [00:35<00:00, 10.89it/s]\n"
     ]
    },
    {
     "name": "stdout",
     "output_type": "stream",
     "text": [
      "                   all      12328      35564      0.658      0.433      0.493      0.333\n",
      "\n",
      "      Epoch    GPU_mem   box_loss   cls_loss   dfl_loss  Instances       Size\n"
     ]
    },
    {
     "name": "stderr",
     "output_type": "stream",
     "text": [
      "     23/200      2.57G     0.4554      1.361      1.499         18        640: 100%|██████████| 6165/6165 [10:43<00:00,  9.57it/s]\n",
      "                 Class     Images  Instances      Box(P          R      mAP50  mAP50-95): 100%|██████████| 386/386 [00:35<00:00, 10.81it/s]\n"
     ]
    },
    {
     "name": "stdout",
     "output_type": "stream",
     "text": [
      "                   all      12328      35564       0.66      0.437      0.496      0.335\n",
      "\n",
      "      Epoch    GPU_mem   box_loss   cls_loss   dfl_loss  Instances       Size\n"
     ]
    },
    {
     "name": "stderr",
     "output_type": "stream",
     "text": [
      "     24/200      2.53G     0.4538      1.354      1.492         36        640: 100%|██████████| 6165/6165 [10:44<00:00,  9.57it/s]\n",
      "                 Class     Images  Instances      Box(P          R      mAP50  mAP50-95): 100%|██████████| 386/386 [00:35<00:00, 10.90it/s]\n"
     ]
    },
    {
     "name": "stdout",
     "output_type": "stream",
     "text": [
      "                   all      12328      35564      0.653      0.443      0.499      0.338\n",
      "\n",
      "      Epoch    GPU_mem   box_loss   cls_loss   dfl_loss  Instances       Size\n"
     ]
    },
    {
     "name": "stderr",
     "output_type": "stream",
     "text": [
      "     25/200      2.58G     0.4541      1.351      1.492         17        640: 100%|██████████| 6165/6165 [10:43<00:00,  9.58it/s]\n",
      "                 Class     Images  Instances      Box(P          R      mAP50  mAP50-95): 100%|██████████| 386/386 [00:35<00:00, 10.95it/s]\n"
     ]
    },
    {
     "name": "stdout",
     "output_type": "stream",
     "text": [
      "                   all      12328      35564      0.656      0.442      0.501       0.34\n",
      "\n",
      "      Epoch    GPU_mem   box_loss   cls_loss   dfl_loss  Instances       Size\n"
     ]
    },
    {
     "name": "stderr",
     "output_type": "stream",
     "text": [
      "     26/200      2.58G     0.4526      1.348      1.488         34        640: 100%|██████████| 6165/6165 [10:43<00:00,  9.58it/s]\n",
      "                 Class     Images  Instances      Box(P          R      mAP50  mAP50-95): 100%|██████████| 386/386 [00:35<00:00, 10.91it/s]\n"
     ]
    },
    {
     "name": "stdout",
     "output_type": "stream",
     "text": [
      "                   all      12328      35564      0.659      0.446      0.505      0.343\n",
      "\n",
      "      Epoch    GPU_mem   box_loss   cls_loss   dfl_loss  Instances       Size\n"
     ]
    },
    {
     "name": "stderr",
     "output_type": "stream",
     "text": [
      "     27/200      2.58G     0.4523      1.344      1.486         33        640: 100%|██████████| 6165/6165 [10:43<00:00,  9.58it/s]\n",
      "                 Class     Images  Instances      Box(P          R      mAP50  mAP50-95): 100%|██████████| 386/386 [00:35<00:00, 10.98it/s]\n"
     ]
    },
    {
     "name": "stdout",
     "output_type": "stream",
     "text": [
      "                   all      12328      35564      0.667      0.447      0.508      0.347\n",
      "\n",
      "      Epoch    GPU_mem   box_loss   cls_loss   dfl_loss  Instances       Size\n"
     ]
    },
    {
     "name": "stderr",
     "output_type": "stream",
     "text": [
      "     28/200      2.57G     0.4514       1.34      1.482         18        640: 100%|██████████| 6165/6165 [10:42<00:00,  9.59it/s]\n",
      "                 Class     Images  Instances      Box(P          R      mAP50  mAP50-95): 100%|██████████| 386/386 [00:35<00:00, 10.96it/s]\n"
     ]
    },
    {
     "name": "stdout",
     "output_type": "stream",
     "text": [
      "                   all      12328      35564      0.673      0.452      0.512      0.349\n",
      "\n",
      "      Epoch    GPU_mem   box_loss   cls_loss   dfl_loss  Instances       Size\n"
     ]
    },
    {
     "name": "stderr",
     "output_type": "stream",
     "text": [
      "     29/200      2.74G     0.4492      1.334      1.476         17        640: 100%|██████████| 6165/6165 [10:43<00:00,  9.59it/s]\n",
      "                 Class     Images  Instances      Box(P          R      mAP50  mAP50-95): 100%|██████████| 386/386 [00:35<00:00, 10.89it/s]\n"
     ]
    },
    {
     "name": "stdout",
     "output_type": "stream",
     "text": [
      "                   all      12328      35564      0.677      0.456      0.515      0.352\n",
      "\n",
      "      Epoch    GPU_mem   box_loss   cls_loss   dfl_loss  Instances       Size\n"
     ]
    },
    {
     "name": "stderr",
     "output_type": "stream",
     "text": [
      "     30/200       2.6G     0.4503      1.334      1.476         15        640: 100%|██████████| 6165/6165 [10:43<00:00,  9.59it/s]\n",
      "                 Class     Images  Instances      Box(P          R      mAP50  mAP50-95): 100%|██████████| 386/386 [00:35<00:00, 10.82it/s]\n"
     ]
    },
    {
     "name": "stdout",
     "output_type": "stream",
     "text": [
      "                   all      12328      35564      0.683      0.456      0.518      0.354\n",
      "\n",
      "      Epoch    GPU_mem   box_loss   cls_loss   dfl_loss  Instances       Size\n"
     ]
    },
    {
     "name": "stderr",
     "output_type": "stream",
     "text": [
      "     31/200       2.6G     0.4489       1.33       1.47         25        640: 100%|██████████| 6165/6165 [10:43<00:00,  9.58it/s]\n",
      "                 Class     Images  Instances      Box(P          R      mAP50  mAP50-95): 100%|██████████| 386/386 [00:36<00:00, 10.51it/s]\n"
     ]
    },
    {
     "name": "stdout",
     "output_type": "stream",
     "text": [
      "                   all      12328      35564      0.687      0.458      0.521      0.356\n",
      "\n",
      "      Epoch    GPU_mem   box_loss   cls_loss   dfl_loss  Instances       Size\n"
     ]
    },
    {
     "name": "stderr",
     "output_type": "stream",
     "text": [
      "     32/200      2.56G     0.4492      1.328      1.471         32        640: 100%|██████████| 6165/6165 [10:50<00:00,  9.48it/s]\n",
      "                 Class     Images  Instances      Box(P          R      mAP50  mAP50-95): 100%|██████████| 386/386 [00:37<00:00, 10.43it/s]\n"
     ]
    },
    {
     "name": "stdout",
     "output_type": "stream",
     "text": [
      "                   all      12328      35564      0.685      0.458      0.523      0.358\n",
      "\n",
      "      Epoch    GPU_mem   box_loss   cls_loss   dfl_loss  Instances       Size\n"
     ]
    },
    {
     "name": "stderr",
     "output_type": "stream",
     "text": [
      "     33/200      2.55G     0.4484      1.325      1.468         26        640: 100%|██████████| 6165/6165 [10:49<00:00,  9.49it/s]\n",
      "                 Class     Images  Instances      Box(P          R      mAP50  mAP50-95): 100%|██████████| 386/386 [00:36<00:00, 10.57it/s]\n"
     ]
    },
    {
     "name": "stdout",
     "output_type": "stream",
     "text": [
      "                   all      12328      35564      0.682      0.462      0.527       0.36\n",
      "\n",
      "      Epoch    GPU_mem   box_loss   cls_loss   dfl_loss  Instances       Size\n"
     ]
    },
    {
     "name": "stderr",
     "output_type": "stream",
     "text": [
      "     34/200      2.57G     0.4466       1.32      1.463         56        640: 100%|██████████| 6165/6165 [10:50<00:00,  9.48it/s]\n",
      "                 Class     Images  Instances      Box(P          R      mAP50  mAP50-95): 100%|██████████| 386/386 [00:36<00:00, 10.55it/s]\n"
     ]
    },
    {
     "name": "stdout",
     "output_type": "stream",
     "text": [
      "                   all      12328      35564      0.689      0.464       0.53      0.363\n",
      "\n",
      "      Epoch    GPU_mem   box_loss   cls_loss   dfl_loss  Instances       Size\n"
     ]
    },
    {
     "name": "stderr",
     "output_type": "stream",
     "text": [
      "     35/200      2.53G     0.4461      1.314      1.461         26        640: 100%|██████████| 6165/6165 [10:50<00:00,  9.48it/s]\n",
      "                 Class     Images  Instances      Box(P          R      mAP50  mAP50-95): 100%|██████████| 386/386 [00:36<00:00, 10.50it/s]\n"
     ]
    },
    {
     "name": "stdout",
     "output_type": "stream",
     "text": [
      "                   all      12328      35564      0.688      0.466      0.533      0.364\n",
      "\n",
      "      Epoch    GPU_mem   box_loss   cls_loss   dfl_loss  Instances       Size\n"
     ]
    },
    {
     "name": "stderr",
     "output_type": "stream",
     "text": [
      "     36/200      2.65G     0.4454      1.311       1.46          4        640: 100%|██████████| 6165/6165 [10:50<00:00,  9.48it/s]\n",
      "                 Class     Images  Instances      Box(P          R      mAP50  mAP50-95): 100%|██████████| 386/386 [00:36<00:00, 10.51it/s]\n"
     ]
    },
    {
     "name": "stdout",
     "output_type": "stream",
     "text": [
      "                   all      12328      35564      0.688      0.468      0.535      0.366\n",
      "\n",
      "      Epoch    GPU_mem   box_loss   cls_loss   dfl_loss  Instances       Size\n"
     ]
    },
    {
     "name": "stderr",
     "output_type": "stream",
     "text": [
      "     37/200       2.7G     0.4452      1.308       1.46         23        640: 100%|██████████| 6165/6165 [10:49<00:00,  9.49it/s]\n",
      "                 Class     Images  Instances      Box(P          R      mAP50  mAP50-95): 100%|██████████| 386/386 [00:36<00:00, 10.58it/s]\n"
     ]
    },
    {
     "name": "stdout",
     "output_type": "stream",
     "text": [
      "                   all      12328      35564      0.687       0.47      0.538      0.368\n",
      "\n",
      "      Epoch    GPU_mem   box_loss   cls_loss   dfl_loss  Instances       Size\n"
     ]
    },
    {
     "name": "stderr",
     "output_type": "stream",
     "text": [
      "     38/200      2.57G     0.4441      1.306      1.454         13        640: 100%|██████████| 6165/6165 [10:49<00:00,  9.50it/s]\n",
      "                 Class     Images  Instances      Box(P          R      mAP50  mAP50-95): 100%|██████████| 386/386 [00:37<00:00, 10.41it/s]\n"
     ]
    },
    {
     "name": "stdout",
     "output_type": "stream",
     "text": [
      "                   all      12328      35564      0.692      0.471      0.539      0.369\n",
      "\n",
      "      Epoch    GPU_mem   box_loss   cls_loss   dfl_loss  Instances       Size\n"
     ]
    },
    {
     "name": "stderr",
     "output_type": "stream",
     "text": [
      "     39/200      2.52G     0.4431        1.3      1.452         42        640: 100%|██████████| 6165/6165 [10:49<00:00,  9.49it/s]\n",
      "                 Class     Images  Instances      Box(P          R      mAP50  mAP50-95): 100%|██████████| 386/386 [00:36<00:00, 10.55it/s]\n"
     ]
    },
    {
     "name": "stdout",
     "output_type": "stream",
     "text": [
      "                   all      12328      35564       0.69      0.472      0.542       0.37\n",
      "\n",
      "      Epoch    GPU_mem   box_loss   cls_loss   dfl_loss  Instances       Size\n"
     ]
    },
    {
     "name": "stderr",
     "output_type": "stream",
     "text": [
      "     40/200      2.53G     0.4437      1.302      1.451         25        640: 100%|██████████| 6165/6165 [10:49<00:00,  9.49it/s]\n",
      "                 Class     Images  Instances      Box(P          R      mAP50  mAP50-95): 100%|██████████| 386/386 [00:36<00:00, 10.49it/s]\n"
     ]
    },
    {
     "name": "stdout",
     "output_type": "stream",
     "text": [
      "                   all      12328      35564      0.687      0.475      0.544      0.372\n",
      "\n",
      "      Epoch    GPU_mem   box_loss   cls_loss   dfl_loss  Instances       Size\n"
     ]
    },
    {
     "name": "stderr",
     "output_type": "stream",
     "text": [
      "     41/200      2.69G     0.4427        1.3      1.443          5        640: 100%|██████████| 6165/6165 [10:49<00:00,  9.49it/s]\n",
      "                 Class     Images  Instances      Box(P          R      mAP50  mAP50-95): 100%|██████████| 386/386 [00:37<00:00, 10.42it/s]\n"
     ]
    },
    {
     "name": "stdout",
     "output_type": "stream",
     "text": [
      "                   all      12328      35564      0.691      0.475      0.546      0.374\n",
      "\n",
      "      Epoch    GPU_mem   box_loss   cls_loss   dfl_loss  Instances       Size\n"
     ]
    },
    {
     "name": "stderr",
     "output_type": "stream",
     "text": [
      "     42/200       2.6G     0.4424      1.291      1.445         10        640: 100%|██████████| 6165/6165 [10:49<00:00,  9.50it/s]\n",
      "                 Class     Images  Instances      Box(P          R      mAP50  mAP50-95): 100%|██████████| 386/386 [00:36<00:00, 10.49it/s]\n"
     ]
    },
    {
     "name": "stdout",
     "output_type": "stream",
     "text": [
      "                   all      12328      35564      0.684      0.478      0.548      0.376\n",
      "\n",
      "      Epoch    GPU_mem   box_loss   cls_loss   dfl_loss  Instances       Size\n"
     ]
    },
    {
     "name": "stderr",
     "output_type": "stream",
     "text": [
      "     43/200       2.5G     0.4424      1.295      1.444         39        640: 100%|██████████| 6165/6165 [10:49<00:00,  9.49it/s]\n",
      "                 Class     Images  Instances      Box(P          R      mAP50  mAP50-95): 100%|██████████| 386/386 [00:36<00:00, 10.49it/s]\n"
     ]
    },
    {
     "name": "stdout",
     "output_type": "stream",
     "text": [
      "                   all      12328      35564      0.679      0.482       0.55      0.377\n",
      "\n",
      "      Epoch    GPU_mem   box_loss   cls_loss   dfl_loss  Instances       Size\n"
     ]
    },
    {
     "name": "stderr",
     "output_type": "stream",
     "text": [
      "     44/200      2.67G     0.4417      1.293      1.443         27        640: 100%|██████████| 6165/6165 [10:49<00:00,  9.49it/s]\n",
      "                 Class     Images  Instances      Box(P          R      mAP50  mAP50-95): 100%|██████████| 386/386 [00:37<00:00, 10.40it/s]\n"
     ]
    },
    {
     "name": "stdout",
     "output_type": "stream",
     "text": [
      "                   all      12328      35564       0.68      0.483      0.552      0.379\n",
      "\n",
      "      Epoch    GPU_mem   box_loss   cls_loss   dfl_loss  Instances       Size\n"
     ]
    },
    {
     "name": "stderr",
     "output_type": "stream",
     "text": [
      "     45/200      2.72G     0.4417      1.287      1.441         55        640: 100%|██████████| 6165/6165 [10:50<00:00,  9.48it/s]\n",
      "                 Class     Images  Instances      Box(P          R      mAP50  mAP50-95): 100%|██████████| 386/386 [00:36<00:00, 10.49it/s]\n"
     ]
    },
    {
     "name": "stdout",
     "output_type": "stream",
     "text": [
      "                   all      12328      35564      0.684      0.485      0.555       0.38\n",
      "\n",
      "      Epoch    GPU_mem   box_loss   cls_loss   dfl_loss  Instances       Size\n"
     ]
    },
    {
     "name": "stderr",
     "output_type": "stream",
     "text": [
      "     46/200      2.53G     0.4413      1.291      1.441         27        640: 100%|██████████| 6165/6165 [10:49<00:00,  9.50it/s]\n",
      "                 Class     Images  Instances      Box(P          R      mAP50  mAP50-95): 100%|██████████| 386/386 [00:36<00:00, 10.46it/s]\n"
     ]
    },
    {
     "name": "stdout",
     "output_type": "stream",
     "text": [
      "                   all      12328      35564      0.686      0.487      0.556      0.382\n",
      "\n",
      "      Epoch    GPU_mem   box_loss   cls_loss   dfl_loss  Instances       Size\n"
     ]
    },
    {
     "name": "stderr",
     "output_type": "stream",
     "text": [
      "     47/200      2.53G     0.4397      1.284      1.436         21        640: 100%|██████████| 6165/6165 [10:50<00:00,  9.48it/s]\n",
      "                 Class     Images  Instances      Box(P          R      mAP50  mAP50-95): 100%|██████████| 386/386 [00:36<00:00, 10.55it/s]\n"
     ]
    },
    {
     "name": "stdout",
     "output_type": "stream",
     "text": [
      "                   all      12328      35564      0.691      0.489      0.558      0.382\n",
      "\n",
      "      Epoch    GPU_mem   box_loss   cls_loss   dfl_loss  Instances       Size\n"
     ]
    },
    {
     "name": "stderr",
     "output_type": "stream",
     "text": [
      "     48/200      2.56G     0.4396      1.282      1.435         30        640: 100%|██████████| 6165/6165 [10:49<00:00,  9.49it/s]\n",
      "                 Class     Images  Instances      Box(P          R      mAP50  mAP50-95): 100%|██████████| 386/386 [00:36<00:00, 10.46it/s]\n"
     ]
    },
    {
     "name": "stdout",
     "output_type": "stream",
     "text": [
      "                   all      12328      35564      0.693       0.49      0.559      0.383\n",
      "\n",
      "      Epoch    GPU_mem   box_loss   cls_loss   dfl_loss  Instances       Size\n"
     ]
    },
    {
     "name": "stderr",
     "output_type": "stream",
     "text": [
      "     49/200      2.59G     0.4399      1.283      1.432         21        640: 100%|██████████| 6165/6165 [10:50<00:00,  9.48it/s]\n",
      "                 Class     Images  Instances      Box(P          R      mAP50  mAP50-95): 100%|██████████| 386/386 [00:36<00:00, 10.56it/s]\n"
     ]
    },
    {
     "name": "stdout",
     "output_type": "stream",
     "text": [
      "                   all      12328      35564      0.685      0.492      0.561      0.385\n",
      "\n",
      "      Epoch    GPU_mem   box_loss   cls_loss   dfl_loss  Instances       Size\n"
     ]
    },
    {
     "name": "stderr",
     "output_type": "stream",
     "text": [
      "     50/200      2.66G     0.4379       1.28      1.431         21        640: 100%|██████████| 6165/6165 [10:49<00:00,  9.50it/s]\n",
      "                 Class     Images  Instances      Box(P          R      mAP50  mAP50-95): 100%|██████████| 386/386 [00:36<00:00, 10.53it/s]\n"
     ]
    },
    {
     "name": "stdout",
     "output_type": "stream",
     "text": [
      "                   all      12328      35564      0.685      0.493      0.561      0.385\n",
      "\n",
      "      Epoch    GPU_mem   box_loss   cls_loss   dfl_loss  Instances       Size\n"
     ]
    },
    {
     "name": "stderr",
     "output_type": "stream",
     "text": [
      "     51/200      2.59G     0.4395      1.279      1.433         46        640: 100%|██████████| 6165/6165 [10:48<00:00,  9.51it/s]\n",
      "                 Class     Images  Instances      Box(P          R      mAP50  mAP50-95): 100%|██████████| 386/386 [00:37<00:00, 10.41it/s]\n"
     ]
    },
    {
     "name": "stdout",
     "output_type": "stream",
     "text": [
      "                   all      12328      35564      0.688      0.493      0.562      0.386\n",
      "\n",
      "      Epoch    GPU_mem   box_loss   cls_loss   dfl_loss  Instances       Size\n"
     ]
    },
    {
     "name": "stderr",
     "output_type": "stream",
     "text": [
      "     52/200      2.56G     0.4383      1.273       1.43         25        640: 100%|██████████| 6165/6165 [10:49<00:00,  9.50it/s]\n",
      "                 Class     Images  Instances      Box(P          R      mAP50  mAP50-95): 100%|██████████| 386/386 [00:37<00:00, 10.42it/s]\n"
     ]
    },
    {
     "name": "stdout",
     "output_type": "stream",
     "text": [
      "                   all      12328      35564      0.689      0.493      0.563      0.387\n",
      "\n",
      "      Epoch    GPU_mem   box_loss   cls_loss   dfl_loss  Instances       Size\n"
     ]
    },
    {
     "name": "stderr",
     "output_type": "stream",
     "text": [
      "     53/200      2.52G     0.4369      1.272      1.431         23        640: 100%|██████████| 6165/6165 [10:49<00:00,  9.50it/s]\n",
      "                 Class     Images  Instances      Box(P          R      mAP50  mAP50-95): 100%|██████████| 386/386 [00:36<00:00, 10.52it/s]\n"
     ]
    },
    {
     "name": "stdout",
     "output_type": "stream",
     "text": [
      "                   all      12328      35564       0.68      0.497      0.565      0.388\n",
      "\n",
      "      Epoch    GPU_mem   box_loss   cls_loss   dfl_loss  Instances       Size\n"
     ]
    },
    {
     "name": "stderr",
     "output_type": "stream",
     "text": [
      "     54/200      2.69G     0.4373      1.269      1.427         15        640: 100%|██████████| 6165/6165 [10:49<00:00,  9.49it/s]\n",
      "                 Class     Images  Instances      Box(P          R      mAP50  mAP50-95): 100%|██████████| 386/386 [00:37<00:00, 10.38it/s]\n"
     ]
    },
    {
     "name": "stdout",
     "output_type": "stream",
     "text": [
      "                   all      12328      35564      0.684      0.499      0.566      0.389\n",
      "\n",
      "      Epoch    GPU_mem   box_loss   cls_loss   dfl_loss  Instances       Size\n"
     ]
    },
    {
     "name": "stderr",
     "output_type": "stream",
     "text": [
      "     55/200      2.49G     0.4375       1.27      1.428          9        640: 100%|██████████| 6165/6165 [10:48<00:00,  9.51it/s]\n",
      "                 Class     Images  Instances      Box(P          R      mAP50  mAP50-95): 100%|██████████| 386/386 [00:36<00:00, 10.49it/s]\n"
     ]
    },
    {
     "name": "stdout",
     "output_type": "stream",
     "text": [
      "                   all      12328      35564      0.688        0.5      0.566       0.39\n",
      "\n",
      "      Epoch    GPU_mem   box_loss   cls_loss   dfl_loss  Instances       Size\n"
     ]
    },
    {
     "name": "stderr",
     "output_type": "stream",
     "text": [
      "     56/200      2.53G     0.4366      1.266      1.424         39        640: 100%|██████████| 6165/6165 [10:49<00:00,  9.49it/s]\n",
      "                 Class     Images  Instances      Box(P          R      mAP50  mAP50-95): 100%|██████████| 386/386 [00:36<00:00, 10.53it/s]\n"
     ]
    },
    {
     "name": "stdout",
     "output_type": "stream",
     "text": [
      "                   all      12328      35564      0.687      0.499      0.568      0.391\n",
      "\n",
      "      Epoch    GPU_mem   box_loss   cls_loss   dfl_loss  Instances       Size\n"
     ]
    },
    {
     "name": "stderr",
     "output_type": "stream",
     "text": [
      "     57/200      2.59G     0.4361      1.263      1.421         22        640: 100%|██████████| 6165/6165 [10:48<00:00,  9.50it/s]\n",
      "                 Class     Images  Instances      Box(P          R      mAP50  mAP50-95): 100%|██████████| 386/386 [00:36<00:00, 10.64it/s]\n"
     ]
    },
    {
     "name": "stdout",
     "output_type": "stream",
     "text": [
      "                   all      12328      35564      0.687      0.501      0.569      0.392\n",
      "\n",
      "      Epoch    GPU_mem   box_loss   cls_loss   dfl_loss  Instances       Size\n"
     ]
    },
    {
     "name": "stderr",
     "output_type": "stream",
     "text": [
      "     58/200       2.8G     0.4357      1.262       1.42         40        640: 100%|██████████| 6165/6165 [10:48<00:00,  9.51it/s]\n",
      "                 Class     Images  Instances      Box(P          R      mAP50  mAP50-95): 100%|██████████| 386/386 [00:36<00:00, 10.55it/s]\n"
     ]
    },
    {
     "name": "stdout",
     "output_type": "stream",
     "text": [
      "                   all      12328      35564      0.684      0.506       0.57      0.393\n",
      "\n",
      "      Epoch    GPU_mem   box_loss   cls_loss   dfl_loss  Instances       Size\n"
     ]
    },
    {
     "name": "stderr",
     "output_type": "stream",
     "text": [
      "     59/200       2.6G     0.4345      1.258      1.419         26        640: 100%|██████████| 6165/6165 [10:48<00:00,  9.51it/s]\n",
      "                 Class     Images  Instances      Box(P          R      mAP50  mAP50-95): 100%|██████████| 386/386 [00:36<00:00, 10.60it/s]\n"
     ]
    },
    {
     "name": "stdout",
     "output_type": "stream",
     "text": [
      "                   all      12328      35564      0.681      0.507       0.57      0.393\n",
      "\n",
      "      Epoch    GPU_mem   box_loss   cls_loss   dfl_loss  Instances       Size\n"
     ]
    },
    {
     "name": "stderr",
     "output_type": "stream",
     "text": [
      "     60/200      2.64G     0.4354      1.256      1.419         10        640: 100%|██████████| 6165/6165 [10:49<00:00,  9.50it/s]\n",
      "                 Class     Images  Instances      Box(P          R      mAP50  mAP50-95): 100%|██████████| 386/386 [00:36<00:00, 10.68it/s]\n"
     ]
    },
    {
     "name": "stdout",
     "output_type": "stream",
     "text": [
      "                   all      12328      35564      0.683      0.508       0.57      0.394\n",
      "\n",
      "      Epoch    GPU_mem   box_loss   cls_loss   dfl_loss  Instances       Size\n"
     ]
    },
    {
     "name": "stderr",
     "output_type": "stream",
     "text": [
      "     61/200      2.74G     0.4341      1.255      1.417         22        640: 100%|██████████| 6165/6165 [10:48<00:00,  9.51it/s]\n",
      "                 Class     Images  Instances      Box(P          R      mAP50  mAP50-95): 100%|██████████| 386/386 [00:36<00:00, 10.56it/s]\n"
     ]
    },
    {
     "name": "stdout",
     "output_type": "stream",
     "text": [
      "                   all      12328      35564      0.684      0.508      0.571      0.394\n",
      "\n",
      "      Epoch    GPU_mem   box_loss   cls_loss   dfl_loss  Instances       Size\n"
     ]
    },
    {
     "name": "stderr",
     "output_type": "stream",
     "text": [
      "     62/200      2.64G     0.4355      1.256      1.417         24        640: 100%|██████████| 6165/6165 [10:49<00:00,  9.49it/s]\n",
      "                 Class     Images  Instances      Box(P          R      mAP50  mAP50-95): 100%|██████████| 386/386 [00:37<00:00, 10.34it/s]\n"
     ]
    },
    {
     "name": "stdout",
     "output_type": "stream",
     "text": [
      "                   all      12328      35564      0.685      0.508      0.572      0.395\n",
      "\n",
      "      Epoch    GPU_mem   box_loss   cls_loss   dfl_loss  Instances       Size\n"
     ]
    },
    {
     "name": "stderr",
     "output_type": "stream",
     "text": [
      "     63/200      2.74G     0.4327      1.249      1.414         32        640: 100%|██████████| 6165/6165 [10:50<00:00,  9.48it/s]\n",
      "                 Class     Images  Instances      Box(P          R      mAP50  mAP50-95): 100%|██████████| 386/386 [00:37<00:00, 10.37it/s]\n"
     ]
    },
    {
     "name": "stdout",
     "output_type": "stream",
     "text": [
      "                   all      12328      35564      0.688      0.506      0.573      0.395\n",
      "\n",
      "      Epoch    GPU_mem   box_loss   cls_loss   dfl_loss  Instances       Size\n"
     ]
    },
    {
     "name": "stderr",
     "output_type": "stream",
     "text": [
      "     64/200       2.7G      0.432      1.249       1.41          8        640: 100%|██████████| 6165/6165 [10:49<00:00,  9.49it/s]\n",
      "                 Class     Images  Instances      Box(P          R      mAP50  mAP50-95): 100%|██████████| 386/386 [00:36<00:00, 10.49it/s]\n"
     ]
    },
    {
     "name": "stdout",
     "output_type": "stream",
     "text": [
      "                   all      12328      35564       0.69      0.504      0.573      0.396\n",
      "\n",
      "      Epoch    GPU_mem   box_loss   cls_loss   dfl_loss  Instances       Size\n"
     ]
    },
    {
     "name": "stderr",
     "output_type": "stream",
     "text": [
      "     65/200      2.57G     0.4332      1.248      1.413         19        640: 100%|██████████| 6165/6165 [10:50<00:00,  9.48it/s]\n",
      "                 Class     Images  Instances      Box(P          R      mAP50  mAP50-95): 100%|██████████| 386/386 [00:36<00:00, 10.62it/s]\n"
     ]
    },
    {
     "name": "stdout",
     "output_type": "stream",
     "text": [
      "                   all      12328      35564      0.687      0.507      0.574      0.397\n",
      "\n",
      "      Epoch    GPU_mem   box_loss   cls_loss   dfl_loss  Instances       Size\n"
     ]
    },
    {
     "name": "stderr",
     "output_type": "stream",
     "text": [
      "     66/200      2.67G     0.4328      1.248       1.41          3        640: 100%|██████████| 6165/6165 [10:49<00:00,  9.49it/s]\n",
      "                 Class     Images  Instances      Box(P          R      mAP50  mAP50-95): 100%|██████████| 386/386 [00:36<00:00, 10.57it/s]\n"
     ]
    },
    {
     "name": "stdout",
     "output_type": "stream",
     "text": [
      "                   all      12328      35564      0.688      0.508      0.574      0.397\n",
      "\n",
      "      Epoch    GPU_mem   box_loss   cls_loss   dfl_loss  Instances       Size\n"
     ]
    },
    {
     "name": "stderr",
     "output_type": "stream",
     "text": [
      "     67/200      2.48G     0.4313      1.245      1.407         29        640: 100%|██████████| 6165/6165 [10:49<00:00,  9.49it/s]\n",
      "                 Class     Images  Instances      Box(P          R      mAP50  mAP50-95): 100%|██████████| 386/386 [00:36<00:00, 10.47it/s]\n"
     ]
    },
    {
     "name": "stdout",
     "output_type": "stream",
     "text": [
      "                   all      12328      35564      0.688      0.507      0.575      0.398\n",
      "\n",
      "      Epoch    GPU_mem   box_loss   cls_loss   dfl_loss  Instances       Size\n"
     ]
    },
    {
     "name": "stderr",
     "output_type": "stream",
     "text": [
      "     68/200      2.53G     0.4319      1.242      1.407          6        640: 100%|██████████| 6165/6165 [10:49<00:00,  9.49it/s]\n",
      "                 Class     Images  Instances      Box(P          R      mAP50  mAP50-95): 100%|██████████| 386/386 [00:37<00:00, 10.42it/s]\n"
     ]
    },
    {
     "name": "stdout",
     "output_type": "stream",
     "text": [
      "                   all      12328      35564      0.688      0.508      0.575      0.398\n",
      "\n",
      "      Epoch    GPU_mem   box_loss   cls_loss   dfl_loss  Instances       Size\n"
     ]
    },
    {
     "name": "stderr",
     "output_type": "stream",
     "text": [
      "     69/200      2.65G     0.4308       1.24      1.406          8        640: 100%|██████████| 6165/6165 [10:49<00:00,  9.49it/s]\n",
      "                 Class     Images  Instances      Box(P          R      mAP50  mAP50-95): 100%|██████████| 386/386 [00:36<00:00, 10.57it/s]\n"
     ]
    },
    {
     "name": "stdout",
     "output_type": "stream",
     "text": [
      "                   all      12328      35564       0.69       0.51      0.577      0.399\n",
      "\n",
      "      Epoch    GPU_mem   box_loss   cls_loss   dfl_loss  Instances       Size\n"
     ]
    },
    {
     "name": "stderr",
     "output_type": "stream",
     "text": [
      "     70/200      2.69G     0.4312      1.238      1.403          6        640: 100%|██████████| 6165/6165 [10:50<00:00,  9.48it/s]\n",
      "                 Class     Images  Instances      Box(P          R      mAP50  mAP50-95): 100%|██████████| 386/386 [00:36<00:00, 10.56it/s]\n"
     ]
    },
    {
     "name": "stdout",
     "output_type": "stream",
     "text": [
      "                   all      12328      35564      0.692      0.509      0.577      0.399\n",
      "\n",
      "      Epoch    GPU_mem   box_loss   cls_loss   dfl_loss  Instances       Size\n"
     ]
    },
    {
     "name": "stderr",
     "output_type": "stream",
     "text": [
      "     71/200      2.55G     0.4307      1.232      1.403         33        640: 100%|██████████| 6165/6165 [10:49<00:00,  9.49it/s]\n",
      "                 Class     Images  Instances      Box(P          R      mAP50  mAP50-95): 100%|██████████| 386/386 [00:36<00:00, 10.58it/s]\n"
     ]
    },
    {
     "name": "stdout",
     "output_type": "stream",
     "text": [
      "                   all      12328      35564      0.695      0.507      0.578      0.399\n",
      "\n",
      "      Epoch    GPU_mem   box_loss   cls_loss   dfl_loss  Instances       Size\n"
     ]
    },
    {
     "name": "stderr",
     "output_type": "stream",
     "text": [
      "     72/200      2.65G     0.4307      1.233      1.402         19        640: 100%|██████████| 6165/6165 [10:49<00:00,  9.49it/s]\n",
      "                 Class     Images  Instances      Box(P          R      mAP50  mAP50-95): 100%|██████████| 386/386 [00:36<00:00, 10.59it/s]\n"
     ]
    },
    {
     "name": "stdout",
     "output_type": "stream",
     "text": [
      "                   all      12328      35564      0.698      0.507       0.58      0.401\n",
      "\n",
      "      Epoch    GPU_mem   box_loss   cls_loss   dfl_loss  Instances       Size\n"
     ]
    },
    {
     "name": "stderr",
     "output_type": "stream",
     "text": [
      "     73/200      2.78G     0.4297      1.235      1.402         12        640: 100%|██████████| 6165/6165 [10:50<00:00,  9.48it/s]\n",
      "                 Class     Images  Instances      Box(P          R      mAP50  mAP50-95): 100%|██████████| 386/386 [00:36<00:00, 10.55it/s]\n"
     ]
    },
    {
     "name": "stdout",
     "output_type": "stream",
     "text": [
      "                   all      12328      35564        0.7      0.509      0.581      0.402\n",
      "\n",
      "      Epoch    GPU_mem   box_loss   cls_loss   dfl_loss  Instances       Size\n"
     ]
    },
    {
     "name": "stderr",
     "output_type": "stream",
     "text": [
      "     74/200      2.65G     0.4293      1.232        1.4         24        640: 100%|██████████| 6165/6165 [10:48<00:00,  9.50it/s]\n",
      "                 Class     Images  Instances      Box(P          R      mAP50  mAP50-95): 100%|██████████| 386/386 [00:36<00:00, 10.44it/s]\n"
     ]
    },
    {
     "name": "stdout",
     "output_type": "stream",
     "text": [
      "                   all      12328      35564      0.692      0.514       0.58      0.402\n",
      "\n",
      "      Epoch    GPU_mem   box_loss   cls_loss   dfl_loss  Instances       Size\n"
     ]
    },
    {
     "name": "stderr",
     "output_type": "stream",
     "text": [
      "     75/200      2.72G     0.4295      1.228      1.401         24        640: 100%|██████████| 6165/6165 [10:49<00:00,  9.49it/s]\n",
      "                 Class     Images  Instances      Box(P          R      mAP50  mAP50-95): 100%|██████████| 386/386 [00:36<00:00, 10.45it/s]\n"
     ]
    },
    {
     "name": "stdout",
     "output_type": "stream",
     "text": [
      "                   all      12328      35564      0.691      0.514      0.581      0.402\n",
      "\n",
      "      Epoch    GPU_mem   box_loss   cls_loss   dfl_loss  Instances       Size\n"
     ]
    },
    {
     "name": "stderr",
     "output_type": "stream",
     "text": [
      "     76/200      2.55G     0.4295      1.229      1.401         35        640: 100%|██████████| 6165/6165 [10:50<00:00,  9.48it/s]\n",
      "                 Class     Images  Instances      Box(P          R      mAP50  mAP50-95): 100%|██████████| 386/386 [00:37<00:00, 10.42it/s]\n"
     ]
    },
    {
     "name": "stdout",
     "output_type": "stream",
     "text": [
      "                   all      12328      35564      0.691      0.516      0.581      0.403\n",
      "\n",
      "      Epoch    GPU_mem   box_loss   cls_loss   dfl_loss  Instances       Size\n"
     ]
    },
    {
     "name": "stderr",
     "output_type": "stream",
     "text": [
      "     77/200      2.65G     0.4283      1.227      1.399         20        640: 100%|██████████| 6165/6165 [10:49<00:00,  9.49it/s]\n",
      "                 Class     Images  Instances      Box(P          R      mAP50  mAP50-95): 100%|██████████| 386/386 [00:36<00:00, 10.58it/s]\n"
     ]
    },
    {
     "name": "stdout",
     "output_type": "stream",
     "text": [
      "                   all      12328      35564      0.695      0.513      0.582      0.404\n",
      "\n",
      "      Epoch    GPU_mem   box_loss   cls_loss   dfl_loss  Instances       Size\n"
     ]
    },
    {
     "name": "stderr",
     "output_type": "stream",
     "text": [
      "     78/200      2.76G      0.428      1.224      1.398          7        640: 100%|██████████| 6165/6165 [10:49<00:00,  9.49it/s]\n",
      "                 Class     Images  Instances      Box(P          R      mAP50  mAP50-95): 100%|██████████| 386/386 [00:36<00:00, 10.51it/s]\n"
     ]
    },
    {
     "name": "stdout",
     "output_type": "stream",
     "text": [
      "                   all      12328      35564        0.7      0.513      0.583      0.405\n",
      "\n",
      "      Epoch    GPU_mem   box_loss   cls_loss   dfl_loss  Instances       Size\n"
     ]
    },
    {
     "name": "stderr",
     "output_type": "stream",
     "text": [
      "     79/200      2.79G     0.4269      1.221      1.393         10        640: 100%|██████████| 6165/6165 [10:50<00:00,  9.48it/s]\n",
      "                 Class     Images  Instances      Box(P          R      mAP50  mAP50-95): 100%|██████████| 386/386 [00:37<00:00, 10.38it/s]\n"
     ]
    },
    {
     "name": "stdout",
     "output_type": "stream",
     "text": [
      "                   all      12328      35564      0.702      0.512      0.583      0.405\n",
      "\n",
      "      Epoch    GPU_mem   box_loss   cls_loss   dfl_loss  Instances       Size\n"
     ]
    },
    {
     "name": "stderr",
     "output_type": "stream",
     "text": [
      "     80/200       2.6G      0.427      1.219      1.393         59        640: 100%|██████████| 6165/6165 [10:49<00:00,  9.49it/s]\n",
      "                 Class     Images  Instances      Box(P          R      mAP50  mAP50-95): 100%|██████████| 386/386 [00:36<00:00, 10.57it/s]\n"
     ]
    },
    {
     "name": "stdout",
     "output_type": "stream",
     "text": [
      "                   all      12328      35564      0.708       0.51      0.584      0.406\n",
      "\n",
      "      Epoch    GPU_mem   box_loss   cls_loss   dfl_loss  Instances       Size\n"
     ]
    },
    {
     "name": "stderr",
     "output_type": "stream",
     "text": [
      "     81/200      2.72G     0.4269       1.22      1.395         36        640: 100%|██████████| 6165/6165 [10:49<00:00,  9.49it/s]\n",
      "                 Class     Images  Instances      Box(P          R      mAP50  mAP50-95): 100%|██████████| 386/386 [00:36<00:00, 10.54it/s]\n"
     ]
    },
    {
     "name": "stdout",
     "output_type": "stream",
     "text": [
      "                   all      12328      35564      0.707      0.509      0.585      0.406\n",
      "\n",
      "      Epoch    GPU_mem   box_loss   cls_loss   dfl_loss  Instances       Size\n"
     ]
    },
    {
     "name": "stderr",
     "output_type": "stream",
     "text": [
      "     82/200      2.71G     0.4273      1.221      1.393         14        640: 100%|██████████| 6165/6165 [10:49<00:00,  9.49it/s]\n",
      "                 Class     Images  Instances      Box(P          R      mAP50  mAP50-95): 100%|██████████| 386/386 [00:36<00:00, 10.45it/s]\n"
     ]
    },
    {
     "name": "stdout",
     "output_type": "stream",
     "text": [
      "                   all      12328      35564      0.705      0.512      0.586      0.407\n",
      "\n",
      "      Epoch    GPU_mem   box_loss   cls_loss   dfl_loss  Instances       Size\n"
     ]
    },
    {
     "name": "stderr",
     "output_type": "stream",
     "text": [
      "     83/200      2.73G     0.4266      1.213       1.39         31        640: 100%|██████████| 6165/6165 [10:49<00:00,  9.50it/s]\n",
      "                 Class     Images  Instances      Box(P          R      mAP50  mAP50-95): 100%|██████████| 386/386 [00:36<00:00, 10.51it/s]\n"
     ]
    },
    {
     "name": "stdout",
     "output_type": "stream",
     "text": [
      "                   all      12328      35564       0.71      0.513      0.588      0.407\n",
      "\n",
      "      Epoch    GPU_mem   box_loss   cls_loss   dfl_loss  Instances       Size\n"
     ]
    },
    {
     "name": "stderr",
     "output_type": "stream",
     "text": [
      "     84/200      2.64G     0.4269      1.214       1.39         23        640: 100%|██████████| 6165/6165 [10:49<00:00,  9.49it/s]\n",
      "                 Class     Images  Instances      Box(P          R      mAP50  mAP50-95): 100%|██████████| 386/386 [00:37<00:00, 10.43it/s]\n"
     ]
    },
    {
     "name": "stdout",
     "output_type": "stream",
     "text": [
      "                   all      12328      35564      0.708      0.516      0.589      0.408\n",
      "\n",
      "      Epoch    GPU_mem   box_loss   cls_loss   dfl_loss  Instances       Size\n"
     ]
    },
    {
     "name": "stderr",
     "output_type": "stream",
     "text": [
      "     85/200      2.57G     0.4266      1.211       1.39         27        640: 100%|██████████| 6165/6165 [10:49<00:00,  9.50it/s]\n",
      "                 Class     Images  Instances      Box(P          R      mAP50  mAP50-95): 100%|██████████| 386/386 [00:37<00:00, 10.39it/s]\n"
     ]
    },
    {
     "name": "stdout",
     "output_type": "stream",
     "text": [
      "                   all      12328      35564      0.708      0.515      0.589      0.409\n",
      "\n",
      "      Epoch    GPU_mem   box_loss   cls_loss   dfl_loss  Instances       Size\n"
     ]
    },
    {
     "name": "stderr",
     "output_type": "stream",
     "text": [
      "     86/200       2.6G     0.4249      1.212      1.387         16        640: 100%|██████████| 6165/6165 [10:49<00:00,  9.49it/s]\n",
      "                 Class     Images  Instances      Box(P          R      mAP50  mAP50-95): 100%|██████████| 386/386 [00:36<00:00, 10.51it/s]\n"
     ]
    },
    {
     "name": "stdout",
     "output_type": "stream",
     "text": [
      "                   all      12328      35564      0.705      0.519       0.59      0.409\n",
      "\n",
      "      Epoch    GPU_mem   box_loss   cls_loss   dfl_loss  Instances       Size\n"
     ]
    },
    {
     "name": "stderr",
     "output_type": "stream",
     "text": [
      "     87/200      2.48G     0.4241      1.205      1.384         31        640: 100%|██████████| 6165/6165 [10:49<00:00,  9.49it/s]\n",
      "                 Class     Images  Instances      Box(P          R      mAP50  mAP50-95): 100%|██████████| 386/386 [00:36<00:00, 10.49it/s]\n"
     ]
    },
    {
     "name": "stdout",
     "output_type": "stream",
     "text": [
      "                   all      12328      35564      0.708      0.517      0.591      0.409\n",
      "\n",
      "      Epoch    GPU_mem   box_loss   cls_loss   dfl_loss  Instances       Size\n"
     ]
    },
    {
     "name": "stderr",
     "output_type": "stream",
     "text": [
      "     88/200      2.68G     0.4238      1.202      1.385         18        640: 100%|██████████| 6165/6165 [10:49<00:00,  9.49it/s]\n",
      "                 Class     Images  Instances      Box(P          R      mAP50  mAP50-95): 100%|██████████| 386/386 [00:36<00:00, 10.48it/s]\n"
     ]
    },
    {
     "name": "stdout",
     "output_type": "stream",
     "text": [
      "                   all      12328      35564      0.708      0.518      0.592       0.41\n",
      "\n",
      "      Epoch    GPU_mem   box_loss   cls_loss   dfl_loss  Instances       Size\n"
     ]
    },
    {
     "name": "stderr",
     "output_type": "stream",
     "text": [
      "     89/200      2.72G     0.4239      1.203      1.382          7        640: 100%|██████████| 6165/6165 [10:50<00:00,  9.47it/s]\n",
      "                 Class     Images  Instances      Box(P          R      mAP50  mAP50-95): 100%|██████████| 386/386 [00:36<00:00, 10.58it/s]\n"
     ]
    },
    {
     "name": "stdout",
     "output_type": "stream",
     "text": [
      "                   all      12328      35564      0.704      0.521      0.592       0.41\n",
      "\n",
      "      Epoch    GPU_mem   box_loss   cls_loss   dfl_loss  Instances       Size\n"
     ]
    },
    {
     "name": "stderr",
     "output_type": "stream",
     "text": [
      "     90/200      2.73G      0.424      1.204      1.382         36        640: 100%|██████████| 6165/6165 [10:49<00:00,  9.49it/s]\n",
      "                 Class     Images  Instances      Box(P          R      mAP50  mAP50-95): 100%|██████████| 386/386 [00:36<00:00, 10.50it/s]\n"
     ]
    },
    {
     "name": "stdout",
     "output_type": "stream",
     "text": [
      "                   all      12328      35564      0.706       0.52      0.592      0.411\n",
      "\n",
      "      Epoch    GPU_mem   box_loss   cls_loss   dfl_loss  Instances       Size\n"
     ]
    },
    {
     "name": "stderr",
     "output_type": "stream",
     "text": [
      "     91/200      2.67G     0.4235      1.197       1.38         14        640: 100%|██████████| 6165/6165 [10:50<00:00,  9.48it/s]\n",
      "                 Class     Images  Instances      Box(P          R      mAP50  mAP50-95): 100%|██████████| 386/386 [00:36<00:00, 10.50it/s]\n"
     ]
    },
    {
     "name": "stdout",
     "output_type": "stream",
     "text": [
      "                   all      12328      35564      0.705      0.519      0.593      0.412\n",
      "\n",
      "      Epoch    GPU_mem   box_loss   cls_loss   dfl_loss  Instances       Size\n"
     ]
    },
    {
     "name": "stderr",
     "output_type": "stream",
     "text": [
      "     92/200      2.97G     0.4237      1.199      1.381         20        640: 100%|██████████| 6165/6165 [10:49<00:00,  9.49it/s]\n",
      "                 Class     Images  Instances      Box(P          R      mAP50  mAP50-95): 100%|██████████| 386/386 [00:36<00:00, 10.55it/s]\n"
     ]
    },
    {
     "name": "stdout",
     "output_type": "stream",
     "text": [
      "                   all      12328      35564      0.701      0.521      0.593      0.412\n",
      "\n",
      "      Epoch    GPU_mem   box_loss   cls_loss   dfl_loss  Instances       Size\n"
     ]
    },
    {
     "name": "stderr",
     "output_type": "stream",
     "text": [
      "     93/200      2.74G     0.4232      1.199      1.379         20        640: 100%|██████████| 6165/6165 [10:49<00:00,  9.50it/s]\n",
      "                 Class     Images  Instances      Box(P          R      mAP50  mAP50-95): 100%|██████████| 386/386 [00:36<00:00, 10.56it/s]\n"
     ]
    },
    {
     "name": "stdout",
     "output_type": "stream",
     "text": [
      "                   all      12328      35564      0.703      0.521      0.595      0.413\n",
      "\n",
      "      Epoch    GPU_mem   box_loss   cls_loss   dfl_loss  Instances       Size\n"
     ]
    },
    {
     "name": "stderr",
     "output_type": "stream",
     "text": [
      "     94/200      2.63G     0.4216      1.198      1.377         17        640: 100%|██████████| 6165/6165 [10:49<00:00,  9.49it/s]\n",
      "                 Class     Images  Instances      Box(P          R      mAP50  mAP50-95): 100%|██████████| 386/386 [00:36<00:00, 10.47it/s]\n"
     ]
    },
    {
     "name": "stdout",
     "output_type": "stream",
     "text": [
      "                   all      12328      35564        0.7      0.524      0.595      0.413\n",
      "\n",
      "      Epoch    GPU_mem   box_loss   cls_loss   dfl_loss  Instances       Size\n"
     ]
    },
    {
     "name": "stderr",
     "output_type": "stream",
     "text": [
      "     95/200      2.71G     0.4219      1.195      1.377         25        640: 100%|██████████| 6165/6165 [10:49<00:00,  9.49it/s]\n",
      "                 Class     Images  Instances      Box(P          R      mAP50  mAP50-95): 100%|██████████| 386/386 [00:37<00:00, 10.39it/s]\n"
     ]
    },
    {
     "name": "stdout",
     "output_type": "stream",
     "text": [
      "                   all      12328      35564      0.703      0.524      0.596      0.414\n",
      "\n",
      "      Epoch    GPU_mem   box_loss   cls_loss   dfl_loss  Instances       Size\n"
     ]
    },
    {
     "name": "stderr",
     "output_type": "stream",
     "text": [
      "     96/200      2.83G     0.4216      1.189      1.376         23        640: 100%|██████████| 6165/6165 [10:48<00:00,  9.51it/s]\n",
      "                 Class     Images  Instances      Box(P          R      mAP50  mAP50-95): 100%|██████████| 386/386 [00:36<00:00, 10.44it/s]\n"
     ]
    },
    {
     "name": "stdout",
     "output_type": "stream",
     "text": [
      "                   all      12328      35564      0.709       0.52      0.597      0.414\n",
      "\n",
      "      Epoch    GPU_mem   box_loss   cls_loss   dfl_loss  Instances       Size\n"
     ]
    },
    {
     "name": "stderr",
     "output_type": "stream",
     "text": [
      "     97/200      2.51G     0.4214      1.191      1.377          6        640: 100%|██████████| 6165/6165 [10:49<00:00,  9.50it/s]\n",
      "                 Class     Images  Instances      Box(P          R      mAP50  mAP50-95): 100%|██████████| 386/386 [00:36<00:00, 10.64it/s]\n"
     ]
    },
    {
     "name": "stdout",
     "output_type": "stream",
     "text": [
      "                   all      12328      35564      0.715       0.52      0.598      0.415\n",
      "\n",
      "      Epoch    GPU_mem   box_loss   cls_loss   dfl_loss  Instances       Size\n"
     ]
    },
    {
     "name": "stderr",
     "output_type": "stream",
     "text": [
      "     98/200      2.61G     0.4212      1.192      1.375         11        640: 100%|██████████| 6165/6165 [10:49<00:00,  9.49it/s]\n",
      "                 Class     Images  Instances      Box(P          R      mAP50  mAP50-95): 100%|██████████| 386/386 [00:36<00:00, 10.51it/s]\n"
     ]
    },
    {
     "name": "stdout",
     "output_type": "stream",
     "text": [
      "                   all      12328      35564      0.717       0.52      0.598      0.416\n",
      "\n",
      "      Epoch    GPU_mem   box_loss   cls_loss   dfl_loss  Instances       Size\n"
     ]
    },
    {
     "name": "stderr",
     "output_type": "stream",
     "text": [
      "     99/200      2.73G     0.4216      1.188      1.375         35        640: 100%|██████████| 6165/6165 [10:48<00:00,  9.50it/s]\n",
      "                 Class     Images  Instances      Box(P          R      mAP50  mAP50-95): 100%|██████████| 386/386 [00:36<00:00, 10.44it/s]\n"
     ]
    },
    {
     "name": "stdout",
     "output_type": "stream",
     "text": [
      "                   all      12328      35564      0.715      0.521      0.598      0.416\n",
      "\n",
      "      Epoch    GPU_mem   box_loss   cls_loss   dfl_loss  Instances       Size\n"
     ]
    },
    {
     "name": "stderr",
     "output_type": "stream",
     "text": [
      "    100/200      2.82G      0.421      1.189      1.375         34        640: 100%|██████████| 6165/6165 [10:49<00:00,  9.49it/s]\n",
      "                 Class     Images  Instances      Box(P          R      mAP50  mAP50-95): 100%|██████████| 386/386 [00:36<00:00, 10.43it/s]\n"
     ]
    },
    {
     "name": "stdout",
     "output_type": "stream",
     "text": [
      "                   all      12328      35564      0.711      0.524      0.598      0.417\n",
      "\n",
      "      Epoch    GPU_mem   box_loss   cls_loss   dfl_loss  Instances       Size\n"
     ]
    },
    {
     "name": "stderr",
     "output_type": "stream",
     "text": [
      "    101/200      2.68G       0.42      1.182      1.371          9        640: 100%|██████████| 6165/6165 [10:49<00:00,  9.49it/s]\n",
      "                 Class     Images  Instances      Box(P          R      mAP50  mAP50-95): 100%|██████████| 386/386 [00:36<00:00, 10.54it/s]\n"
     ]
    },
    {
     "name": "stdout",
     "output_type": "stream",
     "text": [
      "                   all      12328      35564      0.717      0.523      0.599      0.417\n",
      "\n",
      "      Epoch    GPU_mem   box_loss   cls_loss   dfl_loss  Instances       Size\n"
     ]
    },
    {
     "name": "stderr",
     "output_type": "stream",
     "text": [
      "    102/200       2.6G       0.42      1.182      1.371         23        640: 100%|██████████| 6165/6165 [10:50<00:00,  9.48it/s]\n",
      "                 Class     Images  Instances      Box(P          R      mAP50  mAP50-95): 100%|██████████| 386/386 [00:36<00:00, 10.47it/s]\n"
     ]
    },
    {
     "name": "stdout",
     "output_type": "stream",
     "text": [
      "                   all      12328      35564      0.712      0.525      0.599      0.418\n",
      "\n",
      "      Epoch    GPU_mem   box_loss   cls_loss   dfl_loss  Instances       Size\n"
     ]
    },
    {
     "name": "stderr",
     "output_type": "stream",
     "text": [
      "    103/200      2.57G     0.4204       1.18       1.37         28        640: 100%|██████████| 6165/6165 [10:49<00:00,  9.49it/s]\n",
      "                 Class     Images  Instances      Box(P          R      mAP50  mAP50-95): 100%|██████████| 386/386 [00:36<00:00, 10.47it/s]\n"
     ]
    },
    {
     "name": "stdout",
     "output_type": "stream",
     "text": [
      "                   all      12328      35564      0.715      0.526      0.601      0.419\n",
      "\n",
      "      Epoch    GPU_mem   box_loss   cls_loss   dfl_loss  Instances       Size\n"
     ]
    },
    {
     "name": "stderr",
     "output_type": "stream",
     "text": [
      "    104/200      2.63G     0.4191      1.179      1.367         39        640: 100%|██████████| 6165/6165 [10:49<00:00,  9.49it/s]\n",
      "                 Class     Images  Instances      Box(P          R      mAP50  mAP50-95): 100%|██████████| 386/386 [00:37<00:00, 10.41it/s]\n"
     ]
    },
    {
     "name": "stdout",
     "output_type": "stream",
     "text": [
      "                   all      12328      35564      0.712      0.527      0.601      0.419\n",
      "\n",
      "      Epoch    GPU_mem   box_loss   cls_loss   dfl_loss  Instances       Size\n"
     ]
    },
    {
     "name": "stderr",
     "output_type": "stream",
     "text": [
      "    105/200      2.56G     0.4181      1.177      1.366         16        640: 100%|██████████| 6165/6165 [10:50<00:00,  9.48it/s]\n",
      "                 Class     Images  Instances      Box(P          R      mAP50  mAP50-95): 100%|██████████| 386/386 [00:36<00:00, 10.61it/s]\n"
     ]
    },
    {
     "name": "stdout",
     "output_type": "stream",
     "text": [
      "                   all      12328      35564      0.716      0.526      0.602      0.419\n",
      "\n",
      "      Epoch    GPU_mem   box_loss   cls_loss   dfl_loss  Instances       Size\n"
     ]
    },
    {
     "name": "stderr",
     "output_type": "stream",
     "text": [
      "    106/200      2.83G     0.4182      1.176      1.363         31        640: 100%|██████████| 6165/6165 [10:49<00:00,  9.49it/s]\n",
      "                 Class     Images  Instances      Box(P          R      mAP50  mAP50-95): 100%|██████████| 386/386 [00:37<00:00, 10.29it/s]\n"
     ]
    },
    {
     "name": "stdout",
     "output_type": "stream",
     "text": [
      "                   all      12328      35564      0.714      0.526      0.603       0.42\n",
      "\n",
      "      Epoch    GPU_mem   box_loss   cls_loss   dfl_loss  Instances       Size\n"
     ]
    },
    {
     "name": "stderr",
     "output_type": "stream",
     "text": [
      "    107/200      2.71G     0.4178      1.172      1.361         13        640: 100%|██████████| 6165/6165 [10:49<00:00,  9.49it/s]\n",
      "                 Class     Images  Instances      Box(P          R      mAP50  mAP50-95): 100%|██████████| 386/386 [00:37<00:00, 10.38it/s]\n"
     ]
    },
    {
     "name": "stdout",
     "output_type": "stream",
     "text": [
      "                   all      12328      35564      0.712      0.529      0.604      0.421\n",
      "\n",
      "      Epoch    GPU_mem   box_loss   cls_loss   dfl_loss  Instances       Size\n"
     ]
    },
    {
     "name": "stderr",
     "output_type": "stream",
     "text": [
      "    108/200      2.79G     0.4176      1.167      1.363         31        640: 100%|██████████| 6165/6165 [10:49<00:00,  9.49it/s]\n",
      "                 Class     Images  Instances      Box(P          R      mAP50  mAP50-95): 100%|██████████| 386/386 [00:36<00:00, 10.53it/s]\n"
     ]
    },
    {
     "name": "stdout",
     "output_type": "stream",
     "text": [
      "                   all      12328      35564      0.715      0.527      0.605      0.422\n",
      "\n",
      "      Epoch    GPU_mem   box_loss   cls_loss   dfl_loss  Instances       Size\n"
     ]
    },
    {
     "name": "stderr",
     "output_type": "stream",
     "text": [
      "    109/200      2.63G     0.4163      1.166      1.361          8        640: 100%|██████████| 6165/6165 [10:49<00:00,  9.50it/s]\n",
      "                 Class     Images  Instances      Box(P          R      mAP50  mAP50-95): 100%|██████████| 386/386 [00:36<00:00, 10.59it/s]\n"
     ]
    },
    {
     "name": "stdout",
     "output_type": "stream",
     "text": [
      "                   all      12328      35564      0.718      0.528      0.606      0.422\n",
      "\n",
      "      Epoch    GPU_mem   box_loss   cls_loss   dfl_loss  Instances       Size\n"
     ]
    },
    {
     "name": "stderr",
     "output_type": "stream",
     "text": [
      "    110/200       2.7G     0.4167      1.163      1.359         47        640: 100%|██████████| 6165/6165 [10:50<00:00,  9.48it/s]\n",
      "                 Class     Images  Instances      Box(P          R      mAP50  mAP50-95): 100%|██████████| 386/386 [00:36<00:00, 10.51it/s]\n"
     ]
    },
    {
     "name": "stdout",
     "output_type": "stream",
     "text": [
      "                   all      12328      35564      0.718      0.529      0.607      0.423\n",
      "\n",
      "      Epoch    GPU_mem   box_loss   cls_loss   dfl_loss  Instances       Size\n"
     ]
    },
    {
     "name": "stderr",
     "output_type": "stream",
     "text": [
      "    111/200      2.55G     0.4168      1.165       1.36         15        640: 100%|██████████| 6165/6165 [10:49<00:00,  9.49it/s]\n",
      "                 Class     Images  Instances      Box(P          R      mAP50  mAP50-95): 100%|██████████| 386/386 [00:37<00:00, 10.43it/s]\n"
     ]
    },
    {
     "name": "stdout",
     "output_type": "stream",
     "text": [
      "                   all      12328      35564      0.719      0.528      0.607      0.423\n",
      "\n",
      "      Epoch    GPU_mem   box_loss   cls_loss   dfl_loss  Instances       Size\n"
     ]
    },
    {
     "name": "stderr",
     "output_type": "stream",
     "text": [
      "    112/200      2.56G     0.4154      1.158      1.357         14        640: 100%|██████████| 6165/6165 [10:49<00:00,  9.49it/s]\n",
      "                 Class     Images  Instances      Box(P          R      mAP50  mAP50-95): 100%|██████████| 386/386 [00:36<00:00, 10.45it/s]\n"
     ]
    },
    {
     "name": "stdout",
     "output_type": "stream",
     "text": [
      "                   all      12328      35564      0.712      0.534      0.608      0.424\n",
      "\n",
      "      Epoch    GPU_mem   box_loss   cls_loss   dfl_loss  Instances       Size\n"
     ]
    },
    {
     "name": "stderr",
     "output_type": "stream",
     "text": [
      "    113/200      2.69G     0.4148       1.16      1.354         10        640: 100%|██████████| 6165/6165 [10:49<00:00,  9.49it/s]\n",
      "                 Class     Images  Instances      Box(P          R      mAP50  mAP50-95): 100%|██████████| 386/386 [00:36<00:00, 10.50it/s]\n"
     ]
    },
    {
     "name": "stdout",
     "output_type": "stream",
     "text": [
      "                   all      12328      35564      0.709      0.536      0.609      0.424\n",
      "\n",
      "      Epoch    GPU_mem   box_loss   cls_loss   dfl_loss  Instances       Size\n"
     ]
    },
    {
     "name": "stderr",
     "output_type": "stream",
     "text": [
      "    114/200      2.57G     0.4151      1.158      1.353         34        640: 100%|██████████| 6165/6165 [10:49<00:00,  9.49it/s]\n",
      "                 Class     Images  Instances      Box(P          R      mAP50  mAP50-95): 100%|██████████| 386/386 [00:36<00:00, 10.47it/s]\n"
     ]
    },
    {
     "name": "stdout",
     "output_type": "stream",
     "text": [
      "                   all      12328      35564       0.71      0.535       0.61      0.425\n",
      "\n",
      "      Epoch    GPU_mem   box_loss   cls_loss   dfl_loss  Instances       Size\n"
     ]
    },
    {
     "name": "stderr",
     "output_type": "stream",
     "text": [
      "    115/200      2.68G     0.4137      1.156      1.353         12        640: 100%|██████████| 6165/6165 [10:49<00:00,  9.49it/s]\n",
      "                 Class     Images  Instances      Box(P          R      mAP50  mAP50-95): 100%|██████████| 386/386 [00:36<00:00, 10.52it/s]\n"
     ]
    },
    {
     "name": "stdout",
     "output_type": "stream",
     "text": [
      "                   all      12328      35564      0.712      0.534      0.609      0.425\n",
      "\n",
      "      Epoch    GPU_mem   box_loss   cls_loss   dfl_loss  Instances       Size\n"
     ]
    },
    {
     "name": "stderr",
     "output_type": "stream",
     "text": [
      "    116/200      2.72G     0.4137      1.157      1.353         34        640: 100%|██████████| 6165/6165 [10:49<00:00,  9.50it/s]\n",
      "                 Class     Images  Instances      Box(P          R      mAP50  mAP50-95): 100%|██████████| 386/386 [00:36<00:00, 10.55it/s]\n"
     ]
    },
    {
     "name": "stdout",
     "output_type": "stream",
     "text": [
      "                   all      12328      35564      0.723      0.532       0.61      0.425\n",
      "\n",
      "      Epoch    GPU_mem   box_loss   cls_loss   dfl_loss  Instances       Size\n"
     ]
    },
    {
     "name": "stderr",
     "output_type": "stream",
     "text": [
      "    117/200      2.56G     0.4134      1.151      1.351          9        640: 100%|██████████| 6165/6165 [10:48<00:00,  9.51it/s]\n",
      "                 Class     Images  Instances      Box(P          R      mAP50  mAP50-95): 100%|██████████| 386/386 [00:36<00:00, 10.48it/s]\n"
     ]
    },
    {
     "name": "stdout",
     "output_type": "stream",
     "text": [
      "                   all      12328      35564      0.722      0.532       0.61      0.426\n",
      "\n",
      "      Epoch    GPU_mem   box_loss   cls_loss   dfl_loss  Instances       Size\n"
     ]
    },
    {
     "name": "stderr",
     "output_type": "stream",
     "text": [
      "    118/200      2.52G     0.4121      1.151      1.348         10        640: 100%|██████████| 6165/6165 [10:49<00:00,  9.49it/s]\n",
      "                 Class     Images  Instances      Box(P          R      mAP50  mAP50-95): 100%|██████████| 386/386 [00:37<00:00, 10.42it/s]\n"
     ]
    },
    {
     "name": "stdout",
     "output_type": "stream",
     "text": [
      "                   all      12328      35564      0.725       0.53      0.611      0.427\n",
      "\n",
      "      Epoch    GPU_mem   box_loss   cls_loss   dfl_loss  Instances       Size\n"
     ]
    },
    {
     "name": "stderr",
     "output_type": "stream",
     "text": [
      "    119/200      2.76G     0.4137      1.148      1.348         22        640: 100%|██████████| 6165/6165 [10:49<00:00,  9.49it/s]\n",
      "                 Class     Images  Instances      Box(P          R      mAP50  mAP50-95): 100%|██████████| 386/386 [00:36<00:00, 10.48it/s]\n"
     ]
    },
    {
     "name": "stdout",
     "output_type": "stream",
     "text": [
      "                   all      12328      35564      0.729      0.531      0.612      0.427\n",
      "\n",
      "      Epoch    GPU_mem   box_loss   cls_loss   dfl_loss  Instances       Size\n"
     ]
    },
    {
     "name": "stderr",
     "output_type": "stream",
     "text": [
      "    120/200      2.62G     0.4122      1.146      1.346         32        640: 100%|██████████| 6165/6165 [10:50<00:00,  9.48it/s]\n",
      "                 Class     Images  Instances      Box(P          R      mAP50  mAP50-95): 100%|██████████| 386/386 [00:36<00:00, 10.51it/s]\n"
     ]
    },
    {
     "name": "stdout",
     "output_type": "stream",
     "text": [
      "                   all      12328      35564      0.723      0.535      0.613      0.428\n",
      "\n",
      "      Epoch    GPU_mem   box_loss   cls_loss   dfl_loss  Instances       Size\n"
     ]
    },
    {
     "name": "stderr",
     "output_type": "stream",
     "text": [
      "    121/200      2.68G     0.4124      1.146      1.345         48        640: 100%|██████████| 6165/6165 [10:50<00:00,  9.48it/s]\n",
      "                 Class     Images  Instances      Box(P          R      mAP50  mAP50-95): 100%|██████████| 386/386 [00:36<00:00, 10.61it/s]\n"
     ]
    },
    {
     "name": "stdout",
     "output_type": "stream",
     "text": [
      "                   all      12328      35564      0.734       0.53      0.613      0.428\n",
      "\n",
      "      Epoch    GPU_mem   box_loss   cls_loss   dfl_loss  Instances       Size\n"
     ]
    },
    {
     "name": "stderr",
     "output_type": "stream",
     "text": [
      "    122/200      2.84G     0.4119      1.143      1.346         27        640: 100%|██████████| 6165/6165 [10:49<00:00,  9.49it/s]\n",
      "                 Class     Images  Instances      Box(P          R      mAP50  mAP50-95): 100%|██████████| 386/386 [00:36<00:00, 10.44it/s]\n"
     ]
    },
    {
     "name": "stdout",
     "output_type": "stream",
     "text": [
      "                   all      12328      35564      0.727      0.533      0.614      0.429\n",
      "\n",
      "      Epoch    GPU_mem   box_loss   cls_loss   dfl_loss  Instances       Size\n"
     ]
    },
    {
     "name": "stderr",
     "output_type": "stream",
     "text": [
      "    123/200      2.83G     0.4114      1.141      1.344         14        640: 100%|██████████| 6165/6165 [10:49<00:00,  9.49it/s]\n",
      "                 Class     Images  Instances      Box(P          R      mAP50  mAP50-95): 100%|██████████| 386/386 [00:36<00:00, 10.49it/s]\n"
     ]
    },
    {
     "name": "stdout",
     "output_type": "stream",
     "text": [
      "                   all      12328      35564      0.732      0.532      0.615       0.43\n",
      "\n",
      "      Epoch    GPU_mem   box_loss   cls_loss   dfl_loss  Instances       Size\n"
     ]
    },
    {
     "name": "stderr",
     "output_type": "stream",
     "text": [
      "    124/200      2.71G     0.4107      1.136      1.342         38        640: 100%|██████████| 6165/6165 [10:49<00:00,  9.50it/s]\n",
      "                 Class     Images  Instances      Box(P          R      mAP50  mAP50-95): 100%|██████████| 386/386 [00:36<00:00, 10.54it/s]\n"
     ]
    },
    {
     "name": "stdout",
     "output_type": "stream",
     "text": [
      "                   all      12328      35564      0.739       0.53      0.616      0.431\n",
      "\n",
      "      Epoch    GPU_mem   box_loss   cls_loss   dfl_loss  Instances       Size\n"
     ]
    },
    {
     "name": "stderr",
     "output_type": "stream",
     "text": [
      "    125/200      2.57G     0.4101      1.136      1.339          5        640: 100%|██████████| 6165/6165 [10:49<00:00,  9.49it/s]\n",
      "                 Class     Images  Instances      Box(P          R      mAP50  mAP50-95): 100%|██████████| 386/386 [00:36<00:00, 10.46it/s]\n"
     ]
    },
    {
     "name": "stdout",
     "output_type": "stream",
     "text": [
      "                   all      12328      35564      0.733      0.532      0.616      0.431\n",
      "\n",
      "      Epoch    GPU_mem   box_loss   cls_loss   dfl_loss  Instances       Size\n"
     ]
    },
    {
     "name": "stderr",
     "output_type": "stream",
     "text": [
      "    126/200      2.72G     0.4095      1.135       1.34         47        640: 100%|██████████| 6165/6165 [10:50<00:00,  9.48it/s]\n",
      "                 Class     Images  Instances      Box(P          R      mAP50  mAP50-95): 100%|██████████| 386/386 [00:37<00:00, 10.40it/s]\n"
     ]
    },
    {
     "name": "stdout",
     "output_type": "stream",
     "text": [
      "                   all      12328      35564      0.737      0.532      0.617      0.432\n",
      "\n",
      "      Epoch    GPU_mem   box_loss   cls_loss   dfl_loss  Instances       Size\n"
     ]
    },
    {
     "name": "stderr",
     "output_type": "stream",
     "text": [
      "    127/200      2.52G     0.4081       1.13      1.338         30        640: 100%|██████████| 6165/6165 [10:49<00:00,  9.49it/s]\n",
      "                 Class     Images  Instances      Box(P          R      mAP50  mAP50-95): 100%|██████████| 386/386 [00:36<00:00, 10.59it/s]\n"
     ]
    },
    {
     "name": "stdout",
     "output_type": "stream",
     "text": [
      "                   all      12328      35564      0.741      0.532      0.618      0.432\n",
      "\n",
      "      Epoch    GPU_mem   box_loss   cls_loss   dfl_loss  Instances       Size\n"
     ]
    },
    {
     "name": "stderr",
     "output_type": "stream",
     "text": [
      "    128/200      2.55G     0.4088      1.133      1.337         23        640: 100%|██████████| 6165/6165 [10:50<00:00,  9.48it/s]\n",
      "                 Class     Images  Instances      Box(P          R      mAP50  mAP50-95): 100%|██████████| 386/386 [00:37<00:00, 10.42it/s]\n"
     ]
    },
    {
     "name": "stdout",
     "output_type": "stream",
     "text": [
      "                   all      12328      35564      0.745      0.531      0.618      0.433\n",
      "\n",
      "      Epoch    GPU_mem   box_loss   cls_loss   dfl_loss  Instances       Size\n"
     ]
    },
    {
     "name": "stderr",
     "output_type": "stream",
     "text": [
      "    129/200      2.62G     0.4076      1.127      1.335         17        640: 100%|██████████| 6165/6165 [10:49<00:00,  9.49it/s]\n",
      "                 Class     Images  Instances      Box(P          R      mAP50  mAP50-95): 100%|██████████| 386/386 [00:36<00:00, 10.57it/s]\n"
     ]
    },
    {
     "name": "stdout",
     "output_type": "stream",
     "text": [
      "                   all      12328      35564      0.737      0.536      0.619      0.434\n",
      "\n",
      "      Epoch    GPU_mem   box_loss   cls_loss   dfl_loss  Instances       Size\n"
     ]
    },
    {
     "name": "stderr",
     "output_type": "stream",
     "text": [
      "    130/200      2.56G     0.4085      1.127      1.334         25        640: 100%|██████████| 6165/6165 [10:49<00:00,  9.50it/s]\n",
      "                 Class     Images  Instances      Box(P          R      mAP50  mAP50-95): 100%|██████████| 386/386 [00:36<00:00, 10.52it/s]\n"
     ]
    },
    {
     "name": "stdout",
     "output_type": "stream",
     "text": [
      "                   all      12328      35564      0.731      0.541       0.62      0.434\n",
      "\n",
      "      Epoch    GPU_mem   box_loss   cls_loss   dfl_loss  Instances       Size\n"
     ]
    },
    {
     "name": "stderr",
     "output_type": "stream",
     "text": [
      "    131/200       2.6G     0.4076      1.123      1.335         19        640: 100%|██████████| 6165/6165 [10:49<00:00,  9.50it/s]\n",
      "                 Class     Images  Instances      Box(P          R      mAP50  mAP50-95): 100%|██████████| 386/386 [00:36<00:00, 10.53it/s]\n"
     ]
    },
    {
     "name": "stdout",
     "output_type": "stream",
     "text": [
      "                   all      12328      35564      0.736      0.538       0.62      0.434\n",
      "\n",
      "      Epoch    GPU_mem   box_loss   cls_loss   dfl_loss  Instances       Size\n"
     ]
    },
    {
     "name": "stderr",
     "output_type": "stream",
     "text": [
      "    132/200       2.6G     0.4067      1.122      1.333          9        640: 100%|██████████| 6165/6165 [10:47<00:00,  9.52it/s]\n",
      "                 Class     Images  Instances      Box(P          R      mAP50  mAP50-95): 100%|██████████| 386/386 [00:36<00:00, 10.55it/s]\n"
     ]
    },
    {
     "name": "stdout",
     "output_type": "stream",
     "text": [
      "                   all      12328      35564      0.738      0.538      0.621      0.435\n",
      "\n",
      "      Epoch    GPU_mem   box_loss   cls_loss   dfl_loss  Instances       Size\n"
     ]
    },
    {
     "name": "stderr",
     "output_type": "stream",
     "text": [
      "    133/200      2.71G     0.4069      1.118      1.331         15        640: 100%|██████████| 6165/6165 [10:47<00:00,  9.52it/s]\n",
      "                 Class     Images  Instances      Box(P          R      mAP50  mAP50-95): 100%|██████████| 386/386 [00:36<00:00, 10.64it/s]\n"
     ]
    },
    {
     "name": "stdout",
     "output_type": "stream",
     "text": [
      "                   all      12328      35564      0.739      0.538      0.621      0.435\n",
      "\n",
      "      Epoch    GPU_mem   box_loss   cls_loss   dfl_loss  Instances       Size\n"
     ]
    },
    {
     "name": "stderr",
     "output_type": "stream",
     "text": [
      "    134/200       2.8G     0.4059      1.116      1.328         19        640: 100%|██████████| 6165/6165 [10:47<00:00,  9.52it/s]\n",
      "                 Class     Images  Instances      Box(P          R      mAP50  mAP50-95): 100%|██████████| 386/386 [00:36<00:00, 10.48it/s]\n"
     ]
    },
    {
     "name": "stdout",
     "output_type": "stream",
     "text": [
      "                   all      12328      35564      0.744      0.535      0.621      0.436\n",
      "\n",
      "      Epoch    GPU_mem   box_loss   cls_loss   dfl_loss  Instances       Size\n"
     ]
    },
    {
     "name": "stderr",
     "output_type": "stream",
     "text": [
      "    135/200      2.62G     0.4061      1.116      1.328         29        640: 100%|██████████| 6165/6165 [10:48<00:00,  9.51it/s]\n",
      "                 Class     Images  Instances      Box(P          R      mAP50  mAP50-95): 100%|██████████| 386/386 [00:36<00:00, 10.60it/s]\n"
     ]
    },
    {
     "name": "stdout",
     "output_type": "stream",
     "text": [
      "                   all      12328      35564      0.743      0.535      0.622      0.436\n",
      "\n",
      "      Epoch    GPU_mem   box_loss   cls_loss   dfl_loss  Instances       Size\n"
     ]
    },
    {
     "name": "stderr",
     "output_type": "stream",
     "text": [
      "    136/200      2.95G     0.4062      1.111      1.327         48        640: 100%|██████████| 6165/6165 [10:48<00:00,  9.51it/s]\n",
      "                 Class     Images  Instances      Box(P          R      mAP50  mAP50-95): 100%|██████████| 386/386 [00:36<00:00, 10.53it/s]\n"
     ]
    },
    {
     "name": "stdout",
     "output_type": "stream",
     "text": [
      "                   all      12328      35564      0.743      0.536      0.623      0.437\n",
      "\n",
      "      Epoch    GPU_mem   box_loss   cls_loss   dfl_loss  Instances       Size\n"
     ]
    },
    {
     "name": "stderr",
     "output_type": "stream",
     "text": [
      "    137/200      2.57G     0.4047      1.113      1.326         33        640: 100%|██████████| 6165/6165 [10:47<00:00,  9.51it/s]\n",
      "                 Class     Images  Instances      Box(P          R      mAP50  mAP50-95): 100%|██████████| 386/386 [00:36<00:00, 10.58it/s]\n"
     ]
    },
    {
     "name": "stdout",
     "output_type": "stream",
     "text": [
      "                   all      12328      35564      0.747      0.533      0.623      0.437\n",
      "\n",
      "      Epoch    GPU_mem   box_loss   cls_loss   dfl_loss  Instances       Size\n"
     ]
    },
    {
     "name": "stderr",
     "output_type": "stream",
     "text": [
      "    138/200      2.51G     0.4037      1.107      1.327         34        640: 100%|██████████| 6165/6165 [10:47<00:00,  9.52it/s]\n",
      "                 Class     Images  Instances      Box(P          R      mAP50  mAP50-95): 100%|██████████| 386/386 [00:36<00:00, 10.64it/s]\n"
     ]
    },
    {
     "name": "stdout",
     "output_type": "stream",
     "text": [
      "                   all      12328      35564      0.742      0.536      0.624      0.438\n",
      "\n",
      "      Epoch    GPU_mem   box_loss   cls_loss   dfl_loss  Instances       Size\n"
     ]
    },
    {
     "name": "stderr",
     "output_type": "stream",
     "text": [
      "    139/200      2.55G     0.4042       1.11      1.324         42        640: 100%|██████████| 6165/6165 [10:47<00:00,  9.52it/s]\n",
      "                 Class     Images  Instances      Box(P          R      mAP50  mAP50-95): 100%|██████████| 386/386 [00:36<00:00, 10.46it/s]\n"
     ]
    },
    {
     "name": "stdout",
     "output_type": "stream",
     "text": [
      "                   all      12328      35564      0.746      0.535      0.625      0.438\n",
      "\n",
      "      Epoch    GPU_mem   box_loss   cls_loss   dfl_loss  Instances       Size\n"
     ]
    },
    {
     "name": "stderr",
     "output_type": "stream",
     "text": [
      "    140/200      2.69G      0.403      1.103      1.323          8        640: 100%|██████████| 6165/6165 [10:47<00:00,  9.52it/s]\n",
      "                 Class     Images  Instances      Box(P          R      mAP50  mAP50-95): 100%|██████████| 386/386 [00:36<00:00, 10.58it/s]\n"
     ]
    },
    {
     "name": "stdout",
     "output_type": "stream",
     "text": [
      "                   all      12328      35564      0.746      0.537      0.625      0.438\n",
      "\n",
      "      Epoch    GPU_mem   box_loss   cls_loss   dfl_loss  Instances       Size\n"
     ]
    },
    {
     "name": "stderr",
     "output_type": "stream",
     "text": [
      "    141/200      2.66G     0.4035      1.103      1.321         36        640: 100%|██████████| 6165/6165 [10:48<00:00,  9.50it/s]\n",
      "                 Class     Images  Instances      Box(P          R      mAP50  mAP50-95): 100%|██████████| 386/386 [00:36<00:00, 10.50it/s]\n"
     ]
    },
    {
     "name": "stdout",
     "output_type": "stream",
     "text": [
      "                   all      12328      35564      0.739      0.541      0.626      0.439\n",
      "\n",
      "      Epoch    GPU_mem   box_loss   cls_loss   dfl_loss  Instances       Size\n"
     ]
    },
    {
     "name": "stderr",
     "output_type": "stream",
     "text": [
      "    142/200       2.7G     0.4027      1.099       1.32         15        640: 100%|██████████| 6165/6165 [10:48<00:00,  9.51it/s]\n",
      "                 Class     Images  Instances      Box(P          R      mAP50  mAP50-95): 100%|██████████| 386/386 [00:36<00:00, 10.62it/s]\n"
     ]
    },
    {
     "name": "stdout",
     "output_type": "stream",
     "text": [
      "                   all      12328      35564      0.737      0.542      0.626      0.439\n",
      "\n",
      "      Epoch    GPU_mem   box_loss   cls_loss   dfl_loss  Instances       Size\n"
     ]
    },
    {
     "name": "stderr",
     "output_type": "stream",
     "text": [
      "    143/200      2.68G     0.4011      1.096      1.318         21        640: 100%|██████████| 6165/6165 [10:47<00:00,  9.52it/s]\n",
      "                 Class     Images  Instances      Box(P          R      mAP50  mAP50-95): 100%|██████████| 386/386 [00:36<00:00, 10.55it/s]\n"
     ]
    },
    {
     "name": "stdout",
     "output_type": "stream",
     "text": [
      "                   all      12328      35564      0.736      0.544      0.627      0.439\n",
      "\n",
      "      Epoch    GPU_mem   box_loss   cls_loss   dfl_loss  Instances       Size\n"
     ]
    },
    {
     "name": "stderr",
     "output_type": "stream",
     "text": [
      "    144/200      2.67G     0.4022      1.092      1.319         33        640: 100%|██████████| 6165/6165 [10:47<00:00,  9.52it/s]\n",
      "                 Class     Images  Instances      Box(P          R      mAP50  mAP50-95): 100%|██████████| 386/386 [00:36<00:00, 10.53it/s]\n"
     ]
    },
    {
     "name": "stdout",
     "output_type": "stream",
     "text": [
      "                   all      12328      35564      0.738      0.544      0.627       0.44\n",
      "\n",
      "      Epoch    GPU_mem   box_loss   cls_loss   dfl_loss  Instances       Size\n"
     ]
    },
    {
     "name": "stderr",
     "output_type": "stream",
     "text": [
      "    145/200      2.61G     0.4008      1.091      1.316         30        640: 100%|██████████| 6165/6165 [10:53<00:00,  9.43it/s]\n",
      "                 Class     Images  Instances      Box(P          R      mAP50  mAP50-95): 100%|██████████| 386/386 [00:36<00:00, 10.61it/s]\n"
     ]
    },
    {
     "name": "stdout",
     "output_type": "stream",
     "text": [
      "                   all      12328      35564      0.735      0.543      0.627       0.44\n",
      "\n",
      "      Epoch    GPU_mem   box_loss   cls_loss   dfl_loss  Instances       Size\n"
     ]
    },
    {
     "name": "stderr",
     "output_type": "stream",
     "text": [
      "    146/200      2.58G        0.4      1.089      1.315         12        640: 100%|██████████| 6165/6165 [10:48<00:00,  9.51it/s]\n",
      "                 Class     Images  Instances      Box(P          R      mAP50  mAP50-95): 100%|██████████| 386/386 [00:36<00:00, 10.57it/s]\n"
     ]
    },
    {
     "name": "stdout",
     "output_type": "stream",
     "text": [
      "                   all      12328      35564      0.733      0.545      0.627       0.44\n",
      "\n",
      "      Epoch    GPU_mem   box_loss   cls_loss   dfl_loss  Instances       Size\n"
     ]
    },
    {
     "name": "stderr",
     "output_type": "stream",
     "text": [
      "    147/200      2.73G        0.4      1.088      1.315         35        640: 100%|██████████| 6165/6165 [10:48<00:00,  9.51it/s]\n",
      "                 Class     Images  Instances      Box(P          R      mAP50  mAP50-95): 100%|██████████| 386/386 [00:36<00:00, 10.53it/s]\n"
     ]
    },
    {
     "name": "stdout",
     "output_type": "stream",
     "text": [
      "                   all      12328      35564      0.729       0.55      0.628      0.441\n",
      "\n",
      "      Epoch    GPU_mem   box_loss   cls_loss   dfl_loss  Instances       Size\n"
     ]
    },
    {
     "name": "stderr",
     "output_type": "stream",
     "text": [
      "    148/200      2.54G     0.3995      1.085      1.314         12        640: 100%|██████████| 6165/6165 [10:48<00:00,  9.50it/s]\n",
      "                 Class     Images  Instances      Box(P          R      mAP50  mAP50-95): 100%|██████████| 386/386 [00:36<00:00, 10.65it/s]\n"
     ]
    },
    {
     "name": "stdout",
     "output_type": "stream",
     "text": [
      "                   all      12328      35564      0.723      0.554      0.628      0.441\n",
      "\n",
      "      Epoch    GPU_mem   box_loss   cls_loss   dfl_loss  Instances       Size\n"
     ]
    },
    {
     "name": "stderr",
     "output_type": "stream",
     "text": [
      "    149/200      2.55G     0.3995      1.084      1.313          9        640: 100%|██████████| 6165/6165 [10:48<00:00,  9.51it/s]\n",
      "                 Class     Images  Instances      Box(P          R      mAP50  mAP50-95): 100%|██████████| 386/386 [00:36<00:00, 10.55it/s]\n"
     ]
    },
    {
     "name": "stdout",
     "output_type": "stream",
     "text": [
      "                   all      12328      35564      0.738      0.547      0.629      0.442\n",
      "\n",
      "      Epoch    GPU_mem   box_loss   cls_loss   dfl_loss  Instances       Size\n"
     ]
    },
    {
     "name": "stderr",
     "output_type": "stream",
     "text": [
      "    150/200      2.54G     0.3989      1.085       1.31          7        640: 100%|██████████| 6165/6165 [10:47<00:00,  9.52it/s]\n",
      "                 Class     Images  Instances      Box(P          R      mAP50  mAP50-95): 100%|██████████| 386/386 [00:36<00:00, 10.54it/s]\n"
     ]
    },
    {
     "name": "stdout",
     "output_type": "stream",
     "text": [
      "                   all      12328      35564      0.739      0.549      0.629      0.443\n",
      "\n",
      "      Epoch    GPU_mem   box_loss   cls_loss   dfl_loss  Instances       Size\n"
     ]
    },
    {
     "name": "stderr",
     "output_type": "stream",
     "text": [
      "    151/200      2.85G     0.3976      1.077      1.308         31        640: 100%|██████████| 6165/6165 [10:48<00:00,  9.51it/s]\n",
      "                 Class     Images  Instances      Box(P          R      mAP50  mAP50-95): 100%|██████████| 386/386 [00:36<00:00, 10.65it/s]\n"
     ]
    },
    {
     "name": "stdout",
     "output_type": "stream",
     "text": [
      "                   all      12328      35564       0.75      0.545       0.63      0.444\n",
      "\n",
      "      Epoch    GPU_mem   box_loss   cls_loss   dfl_loss  Instances       Size\n"
     ]
    },
    {
     "name": "stderr",
     "output_type": "stream",
     "text": [
      "    152/200      2.71G     0.3976      1.073      1.307         26        640: 100%|██████████| 6165/6165 [10:47<00:00,  9.51it/s]\n",
      "                 Class     Images  Instances      Box(P          R      mAP50  mAP50-95): 100%|██████████| 386/386 [00:36<00:00, 10.67it/s]\n"
     ]
    },
    {
     "name": "stdout",
     "output_type": "stream",
     "text": [
      "                   all      12328      35564      0.747      0.549      0.631      0.444\n",
      "\n",
      "      Epoch    GPU_mem   box_loss   cls_loss   dfl_loss  Instances       Size\n"
     ]
    },
    {
     "name": "stderr",
     "output_type": "stream",
     "text": [
      "    153/200      2.59G     0.3964      1.071      1.306         16        640: 100%|██████████| 6165/6165 [10:48<00:00,  9.51it/s]\n",
      "                 Class     Images  Instances      Box(P          R      mAP50  mAP50-95): 100%|██████████| 386/386 [00:36<00:00, 10.55it/s]\n"
     ]
    },
    {
     "name": "stdout",
     "output_type": "stream",
     "text": [
      "                   all      12328      35564      0.749      0.549      0.632      0.445\n",
      "\n",
      "      Epoch    GPU_mem   box_loss   cls_loss   dfl_loss  Instances       Size\n"
     ]
    },
    {
     "name": "stderr",
     "output_type": "stream",
     "text": [
      "    154/200      2.56G     0.3961      1.072      1.306         21        640: 100%|██████████| 6165/6165 [10:48<00:00,  9.51it/s]\n",
      "                 Class     Images  Instances      Box(P          R      mAP50  mAP50-95): 100%|██████████| 386/386 [00:36<00:00, 10.59it/s]\n"
     ]
    },
    {
     "name": "stdout",
     "output_type": "stream",
     "text": [
      "                   all      12328      35564      0.747      0.552      0.633      0.446\n",
      "\n",
      "      Epoch    GPU_mem   box_loss   cls_loss   dfl_loss  Instances       Size\n"
     ]
    },
    {
     "name": "stderr",
     "output_type": "stream",
     "text": [
      "    155/200      2.56G     0.3961      1.067      1.304         21        640: 100%|██████████| 6165/6165 [10:47<00:00,  9.52it/s]\n",
      "                 Class     Images  Instances      Box(P          R      mAP50  mAP50-95): 100%|██████████| 386/386 [00:36<00:00, 10.49it/s]\n"
     ]
    },
    {
     "name": "stdout",
     "output_type": "stream",
     "text": [
      "                   all      12328      35564      0.751      0.549      0.632      0.446\n",
      "\n",
      "      Epoch    GPU_mem   box_loss   cls_loss   dfl_loss  Instances       Size\n"
     ]
    },
    {
     "name": "stderr",
     "output_type": "stream",
     "text": [
      "    156/200      2.63G     0.3945      1.061      1.301         27        640: 100%|██████████| 6165/6165 [10:48<00:00,  9.51it/s]\n",
      "                 Class     Images  Instances      Box(P          R      mAP50  mAP50-95): 100%|██████████| 386/386 [00:36<00:00, 10.64it/s]\n"
     ]
    },
    {
     "name": "stdout",
     "output_type": "stream",
     "text": [
      "                   all      12328      35564      0.745      0.553      0.633      0.446\n",
      "\n",
      "      Epoch    GPU_mem   box_loss   cls_loss   dfl_loss  Instances       Size\n"
     ]
    },
    {
     "name": "stderr",
     "output_type": "stream",
     "text": [
      "    157/200      2.59G     0.3947       1.06      1.301         25        640: 100%|██████████| 6165/6165 [10:48<00:00,  9.51it/s]\n",
      "                 Class     Images  Instances      Box(P          R      mAP50  mAP50-95): 100%|██████████| 386/386 [00:36<00:00, 10.64it/s]\n"
     ]
    },
    {
     "name": "stdout",
     "output_type": "stream",
     "text": [
      "                   all      12328      35564      0.744      0.555      0.635      0.446\n",
      "\n",
      "      Epoch    GPU_mem   box_loss   cls_loss   dfl_loss  Instances       Size\n"
     ]
    },
    {
     "name": "stderr",
     "output_type": "stream",
     "text": [
      "    158/200      2.65G     0.3935      1.055      1.297         20        640: 100%|██████████| 6165/6165 [10:47<00:00,  9.52it/s]\n",
      "                 Class     Images  Instances      Box(P          R      mAP50  mAP50-95): 100%|██████████| 386/386 [00:36<00:00, 10.59it/s]\n"
     ]
    },
    {
     "name": "stdout",
     "output_type": "stream",
     "text": [
      "                   all      12328      35564      0.748      0.554      0.635      0.447\n",
      "\n",
      "      Epoch    GPU_mem   box_loss   cls_loss   dfl_loss  Instances       Size\n"
     ]
    },
    {
     "name": "stderr",
     "output_type": "stream",
     "text": [
      "    159/200       2.6G     0.3936      1.056      1.299         18        640: 100%|██████████| 6165/6165 [10:47<00:00,  9.52it/s]\n",
      "                 Class     Images  Instances      Box(P          R      mAP50  mAP50-95): 100%|██████████| 386/386 [00:36<00:00, 10.56it/s]\n"
     ]
    },
    {
     "name": "stdout",
     "output_type": "stream",
     "text": [
      "                   all      12328      35564      0.744      0.557      0.636      0.447\n",
      "\n",
      "      Epoch    GPU_mem   box_loss   cls_loss   dfl_loss  Instances       Size\n"
     ]
    },
    {
     "name": "stderr",
     "output_type": "stream",
     "text": [
      "    160/200      2.79G     0.3928      1.051      1.296         10        640: 100%|██████████| 6165/6165 [10:48<00:00,  9.51it/s]\n",
      "                 Class     Images  Instances      Box(P          R      mAP50  mAP50-95): 100%|██████████| 386/386 [00:36<00:00, 10.46it/s]\n"
     ]
    },
    {
     "name": "stdout",
     "output_type": "stream",
     "text": [
      "                   all      12328      35564      0.751      0.552      0.636      0.448\n",
      "\n",
      "      Epoch    GPU_mem   box_loss   cls_loss   dfl_loss  Instances       Size\n"
     ]
    },
    {
     "name": "stderr",
     "output_type": "stream",
     "text": [
      "    161/200      2.63G      0.392      1.048      1.293         14        640: 100%|██████████| 6165/6165 [10:48<00:00,  9.51it/s]\n",
      "                 Class     Images  Instances      Box(P          R      mAP50  mAP50-95): 100%|██████████| 386/386 [00:36<00:00, 10.64it/s]\n"
     ]
    },
    {
     "name": "stdout",
     "output_type": "stream",
     "text": [
      "                   all      12328      35564      0.743      0.558      0.636      0.448\n",
      "\n",
      "      Epoch    GPU_mem   box_loss   cls_loss   dfl_loss  Instances       Size\n"
     ]
    },
    {
     "name": "stderr",
     "output_type": "stream",
     "text": [
      "    162/200      2.59G     0.3926      1.049      1.294         22        640: 100%|██████████| 6165/6165 [10:48<00:00,  9.51it/s]\n",
      "                 Class     Images  Instances      Box(P          R      mAP50  mAP50-95): 100%|██████████| 386/386 [00:36<00:00, 10.58it/s]\n"
     ]
    },
    {
     "name": "stdout",
     "output_type": "stream",
     "text": [
      "                   all      12328      35564      0.741      0.557      0.637      0.449\n",
      "\n",
      "      Epoch    GPU_mem   box_loss   cls_loss   dfl_loss  Instances       Size\n"
     ]
    },
    {
     "name": "stderr",
     "output_type": "stream",
     "text": [
      "    163/200      2.64G       0.39      1.038       1.29         21        640: 100%|██████████| 6165/6165 [10:47<00:00,  9.52it/s]\n",
      "                 Class     Images  Instances      Box(P          R      mAP50  mAP50-95): 100%|██████████| 386/386 [00:36<00:00, 10.68it/s]\n"
     ]
    },
    {
     "name": "stdout",
     "output_type": "stream",
     "text": [
      "                   all      12328      35564      0.745      0.557      0.638      0.449\n",
      "\n",
      "      Epoch    GPU_mem   box_loss   cls_loss   dfl_loss  Instances       Size\n"
     ]
    },
    {
     "name": "stderr",
     "output_type": "stream",
     "text": [
      "    164/200      2.72G     0.3894      1.039       1.29         10        640: 100%|██████████| 6165/6165 [10:48<00:00,  9.51it/s]\n",
      "                 Class     Images  Instances      Box(P          R      mAP50  mAP50-95): 100%|██████████| 386/386 [00:36<00:00, 10.56it/s]\n"
     ]
    },
    {
     "name": "stdout",
     "output_type": "stream",
     "text": [
      "                   all      12328      35564      0.743      0.559      0.639       0.45\n",
      "\n",
      "      Epoch    GPU_mem   box_loss   cls_loss   dfl_loss  Instances       Size\n"
     ]
    },
    {
     "name": "stderr",
     "output_type": "stream",
     "text": [
      "    165/200      2.49G     0.3889      1.035      1.287         12        640: 100%|██████████| 6165/6165 [10:47<00:00,  9.52it/s]\n",
      "                 Class     Images  Instances      Box(P          R      mAP50  mAP50-95): 100%|██████████| 386/386 [00:36<00:00, 10.63it/s]\n"
     ]
    },
    {
     "name": "stdout",
     "output_type": "stream",
     "text": [
      "                   all      12328      35564       0.74      0.561      0.639      0.451\n",
      "\n",
      "      Epoch    GPU_mem   box_loss   cls_loss   dfl_loss  Instances       Size\n"
     ]
    },
    {
     "name": "stderr",
     "output_type": "stream",
     "text": [
      "    166/200      2.54G     0.3883      1.031      1.286         44        640: 100%|██████████| 6165/6165 [10:47<00:00,  9.52it/s]\n",
      "                 Class     Images  Instances      Box(P          R      mAP50  mAP50-95): 100%|██████████| 386/386 [00:36<00:00, 10.62it/s]\n"
     ]
    },
    {
     "name": "stdout",
     "output_type": "stream",
     "text": [
      "                   all      12328      35564      0.735      0.562       0.64      0.452\n",
      "\n",
      "      Epoch    GPU_mem   box_loss   cls_loss   dfl_loss  Instances       Size\n"
     ]
    },
    {
     "name": "stderr",
     "output_type": "stream",
     "text": [
      "    167/200      2.59G     0.3885      1.029      1.285          7        640: 100%|██████████| 6165/6165 [10:48<00:00,  9.51it/s]\n",
      "                 Class     Images  Instances      Box(P          R      mAP50  mAP50-95): 100%|██████████| 386/386 [00:36<00:00, 10.57it/s]\n"
     ]
    },
    {
     "name": "stdout",
     "output_type": "stream",
     "text": [
      "                   all      12328      35564      0.743      0.559       0.64      0.453\n",
      "\n",
      "      Epoch    GPU_mem   box_loss   cls_loss   dfl_loss  Instances       Size\n"
     ]
    },
    {
     "name": "stderr",
     "output_type": "stream",
     "text": [
      "    168/200      2.71G     0.3872      1.027      1.284          7        640: 100%|██████████| 6165/6165 [10:49<00:00,  9.49it/s]\n",
      "                 Class     Images  Instances      Box(P          R      mAP50  mAP50-95): 100%|██████████| 386/386 [00:36<00:00, 10.56it/s]\n"
     ]
    },
    {
     "name": "stdout",
     "output_type": "stream",
     "text": [
      "                   all      12328      35564      0.743      0.559       0.64      0.452\n",
      "\n",
      "      Epoch    GPU_mem   box_loss   cls_loss   dfl_loss  Instances       Size\n"
     ]
    },
    {
     "name": "stderr",
     "output_type": "stream",
     "text": [
      "    169/200      2.46G     0.3867      1.024      1.283         64        640: 100%|██████████| 6165/6165 [10:49<00:00,  9.50it/s]\n",
      "                 Class     Images  Instances      Box(P          R      mAP50  mAP50-95): 100%|██████████| 386/386 [00:35<00:00, 10.73it/s]\n"
     ]
    },
    {
     "name": "stdout",
     "output_type": "stream",
     "text": [
      "                   all      12328      35564      0.745       0.56      0.641      0.453\n",
      "\n",
      "      Epoch    GPU_mem   box_loss   cls_loss   dfl_loss  Instances       Size\n"
     ]
    },
    {
     "name": "stderr",
     "output_type": "stream",
     "text": [
      "    170/200      2.66G     0.3858      1.018       1.28         16        640: 100%|██████████| 6165/6165 [10:49<00:00,  9.50it/s]\n",
      "                 Class     Images  Instances      Box(P          R      mAP50  mAP50-95): 100%|██████████| 386/386 [00:36<00:00, 10.50it/s]\n"
     ]
    },
    {
     "name": "stdout",
     "output_type": "stream",
     "text": [
      "                   all      12328      35564      0.745       0.56      0.641      0.454\n",
      "\n",
      "      Epoch    GPU_mem   box_loss   cls_loss   dfl_loss  Instances       Size\n"
     ]
    },
    {
     "name": "stderr",
     "output_type": "stream",
     "text": [
      "    171/200      2.88G     0.3856      1.016      1.278         28        640: 100%|██████████| 6165/6165 [10:49<00:00,  9.49it/s]\n",
      "                 Class     Images  Instances      Box(P          R      mAP50  mAP50-95): 100%|██████████| 386/386 [00:36<00:00, 10.57it/s]\n"
     ]
    },
    {
     "name": "stdout",
     "output_type": "stream",
     "text": [
      "                   all      12328      35564      0.738      0.563      0.641      0.455\n",
      "\n",
      "      Epoch    GPU_mem   box_loss   cls_loss   dfl_loss  Instances       Size\n"
     ]
    },
    {
     "name": "stderr",
     "output_type": "stream",
     "text": [
      "    172/200      2.49G      0.384      1.012      1.277          4        640: 100%|██████████| 6165/6165 [10:49<00:00,  9.50it/s]\n",
      "                 Class     Images  Instances      Box(P          R      mAP50  mAP50-95): 100%|██████████| 386/386 [00:36<00:00, 10.60it/s]\n"
     ]
    },
    {
     "name": "stdout",
     "output_type": "stream",
     "text": [
      "                   all      12328      35564       0.75      0.559      0.643      0.455\n",
      "\n",
      "      Epoch    GPU_mem   box_loss   cls_loss   dfl_loss  Instances       Size\n"
     ]
    },
    {
     "name": "stderr",
     "output_type": "stream",
     "text": [
      "    173/200      2.79G     0.3835      1.009      1.275         18        640: 100%|██████████| 6165/6165 [10:49<00:00,  9.50it/s]\n",
      "                 Class     Images  Instances      Box(P          R      mAP50  mAP50-95): 100%|██████████| 386/386 [00:36<00:00, 10.63it/s]\n"
     ]
    },
    {
     "name": "stdout",
     "output_type": "stream",
     "text": [
      "                   all      12328      35564      0.753      0.558      0.643      0.455\n",
      "\n",
      "      Epoch    GPU_mem   box_loss   cls_loss   dfl_loss  Instances       Size\n"
     ]
    },
    {
     "name": "stderr",
     "output_type": "stream",
     "text": [
      "    174/200      2.56G     0.3826      1.004      1.272          4        640: 100%|██████████| 6165/6165 [10:47<00:00,  9.51it/s]\n",
      "                 Class     Images  Instances      Box(P          R      mAP50  mAP50-95): 100%|██████████| 386/386 [00:36<00:00, 10.68it/s]\n"
     ]
    },
    {
     "name": "stdout",
     "output_type": "stream",
     "text": [
      "                   all      12328      35564      0.754      0.559      0.644      0.455\n",
      "\n",
      "      Epoch    GPU_mem   box_loss   cls_loss   dfl_loss  Instances       Size\n"
     ]
    },
    {
     "name": "stderr",
     "output_type": "stream",
     "text": [
      "    175/200      2.52G     0.3814          1      1.269         14        640: 100%|██████████| 6165/6165 [10:49<00:00,  9.49it/s]\n",
      "                 Class     Images  Instances      Box(P          R      mAP50  mAP50-95): 100%|██████████| 386/386 [00:35<00:00, 10.73it/s]\n"
     ]
    },
    {
     "name": "stdout",
     "output_type": "stream",
     "text": [
      "                   all      12328      35564      0.766      0.554      0.644      0.456\n",
      "\n",
      "      Epoch    GPU_mem   box_loss   cls_loss   dfl_loss  Instances       Size\n"
     ]
    },
    {
     "name": "stderr",
     "output_type": "stream",
     "text": [
      "    176/200      2.63G     0.3801     0.9943      1.265         46        640: 100%|██████████| 6165/6165 [10:48<00:00,  9.50it/s]\n",
      "                 Class     Images  Instances      Box(P          R      mAP50  mAP50-95): 100%|██████████| 386/386 [00:36<00:00, 10.61it/s]\n"
     ]
    },
    {
     "name": "stdout",
     "output_type": "stream",
     "text": [
      "                   all      12328      35564      0.758      0.559      0.645      0.456\n",
      "\n",
      "      Epoch    GPU_mem   box_loss   cls_loss   dfl_loss  Instances       Size\n"
     ]
    },
    {
     "name": "stderr",
     "output_type": "stream",
     "text": [
      "    177/200      2.62G     0.3802      0.994      1.267         11        640: 100%|██████████| 6165/6165 [10:47<00:00,  9.51it/s]\n",
      "                 Class     Images  Instances      Box(P          R      mAP50  mAP50-95): 100%|██████████| 386/386 [00:36<00:00, 10.64it/s]\n"
     ]
    },
    {
     "name": "stdout",
     "output_type": "stream",
     "text": [
      "                   all      12328      35564      0.751      0.564      0.646      0.457\n",
      "\n",
      "      Epoch    GPU_mem   box_loss   cls_loss   dfl_loss  Instances       Size\n"
     ]
    },
    {
     "name": "stderr",
     "output_type": "stream",
     "text": [
      "    178/200      2.62G      0.379     0.9891      1.265         18        640: 100%|██████████| 6165/6165 [10:48<00:00,  9.51it/s]\n",
      "                 Class     Images  Instances      Box(P          R      mAP50  mAP50-95): 100%|██████████| 386/386 [00:36<00:00, 10.60it/s]\n"
     ]
    },
    {
     "name": "stdout",
     "output_type": "stream",
     "text": [
      "                   all      12328      35564      0.747      0.567      0.646      0.457\n",
      "\n",
      "      Epoch    GPU_mem   box_loss   cls_loss   dfl_loss  Instances       Size\n"
     ]
    },
    {
     "name": "stderr",
     "output_type": "stream",
     "text": [
      "    179/200       2.7G     0.3776     0.9824      1.261          6        640: 100%|██████████| 6165/6165 [10:49<00:00,  9.49it/s]\n",
      "                 Class     Images  Instances      Box(P          R      mAP50  mAP50-95): 100%|██████████| 386/386 [00:36<00:00, 10.63it/s]\n"
     ]
    },
    {
     "name": "stdout",
     "output_type": "stream",
     "text": [
      "                   all      12328      35564      0.743      0.572      0.647      0.458\n",
      "\n",
      "      Epoch    GPU_mem   box_loss   cls_loss   dfl_loss  Instances       Size\n"
     ]
    },
    {
     "name": "stderr",
     "output_type": "stream",
     "text": [
      "    180/200      2.67G     0.3767     0.9771       1.26         22        640: 100%|██████████| 6165/6165 [10:49<00:00,  9.49it/s]\n",
      "                 Class     Images  Instances      Box(P          R      mAP50  mAP50-95): 100%|██████████| 386/386 [00:36<00:00, 10.60it/s]\n"
     ]
    },
    {
     "name": "stdout",
     "output_type": "stream",
     "text": [
      "                   all      12328      35564      0.747      0.571      0.647      0.458\n",
      "\n",
      "      Epoch    GPU_mem   box_loss   cls_loss   dfl_loss  Instances       Size\n"
     ]
    },
    {
     "name": "stderr",
     "output_type": "stream",
     "text": [
      "    181/200      2.64G     0.3763     0.9751      1.258         57        640:  91%|█████████ | 5584/6165 [09:57<01:02,  9.32it/s]"
     ]
    }
   ],
   "source": [
    "from ultralytics import YOLO\n",
    "\n",
    "model16 = YOLO(\"yolo11n.yaml\")\n",
    "\n",
    "model16.train(\n",
    "    data=\"train_filtered.yaml\",\n",
    "    cfg=\"hyperparam_tuning2/tune/best_hyperparameters.yaml\",\n",
    "    project=\"tuned2_16\",\n",
    "    pretrained=False,  \n",
    "    epochs = 200,\n",
    "    patience=10, \n",
    "    batch=16,\n",
    "    )"
   ]
  },
  {
   "cell_type": "code",
   "execution_count": null,
   "metadata": {},
   "outputs": [],
   "source": [
    "from ultralytics import YOLO\n",
    "\n",
    "model16 = YOLO(\"yolo11n.yaml\")\n",
    "\n",
    "model16.train(\n",
    "    data=\"train_filtered.yaml\",\n",
    "    cfg=\"hyperparam_tuning2/tune/best_hyperparameters.yaml\",\n",
    "    project=\"tuned2_X\",\n",
    "    pretrained=False,  \n",
    "    epochs = 200,\n",
    "    patience=10, \n",
    "    batch=-1,\n",
    "    )"
   ]
  },
  {
   "cell_type": "code",
   "execution_count": null,
   "metadata": {},
   "outputs": [],
   "source": [
    "from ultralytics import YOLO\n",
    "model16 = YOLO(\"tuned1_16/train/weights/last.pt\")\n",
    "model16.train(resume=True)"
   ]
  },
  {
   "cell_type": "code",
   "execution_count": null,
   "metadata": {},
   "outputs": [],
   "source": [
    "from ultralytics import YOLO\n",
    "\n",
    "model16 = YOLO(\"yolo11n.yaml\")\n",
    "\n",
    "model16.train(\n",
    "    data=\"train_filtered.yaml\",\n",
    "    cfg=\"hyperparam_tuning2/tune/best_hyperparameters.yaml\",\n",
    "    project=\"tuned2_X\",\n",
    "    pretrained=False,  \n",
    "    epochs = 200,\n",
    "    patience=10, \n",
    "    batch=-1,\n",
    "    )"
   ]
  },
  {
   "cell_type": "code",
   "execution_count": null,
   "metadata": {},
   "outputs": [],
   "source": [
    "from ultralytics import YOLO\n",
    "\n",
    "model = YOLO(\"yolo11n.yaml\")\n",
    "\n",
    "model.tune(\n",
    "    data=\"train_filtered.yaml\",\n",
    "    project=\"./hyperparam_tuning3\",\n",
    "    pretrained=False,  \n",
    "    epochs = 5,\n",
    "    iterations=100,\n",
    "    )"
   ]
  },
  {
   "cell_type": "markdown",
   "metadata": {},
   "source": [
    "# Validating the YOLO models\n",
    "The following code is used to validate and compare the different YOLO models that have been trained"
   ]
  },
  {
   "cell_type": "markdown",
   "metadata": {},
   "source": [
    "This code tries the default and pretrained yolo11n model with the COCO dataset"
   ]
  },
  {
   "cell_type": "code",
   "execution_count": null,
   "metadata": {},
   "outputs": [],
   "source": [
    "from ultralytics import YOLO\n",
    "\n",
    "# Load a model\n",
    "\n",
    "model = YOLO(\"16_scratch_filtered/train/weights/best.pt\")\n",
    "validation_results = model.val(data=\"train_filtered.yaml\", device=\"0\", plots=True)"
   ]
  },
  {
   "cell_type": "code",
   "execution_count": null,
   "metadata": {},
   "outputs": [],
   "source": [
    "# Load a model\n",
    "model = YOLO(\"yolo11n.pt\")\n",
    "validation_results = model.val(data=\"train_filtered.yaml\", device=\"0\", plots=True)"
   ]
  },
  {
   "cell_type": "code",
   "execution_count": null,
   "metadata": {},
   "outputs": [],
   "source": []
  },
  {
   "cell_type": "code",
   "execution_count": null,
   "metadata": {},
   "outputs": [],
   "source": [
    "# Validate the model\n",
    "validation_results.box.map  # map50-95\n",
    "validation_results.box.map50  # map50\n",
    "validation_results.box.map75  # map75\n",
    "validation_results.box.maps  # a list contains map50-95 of each category"
   ]
  }
 ],
 "metadata": {
  "kernelspec": {
   "display_name": "Python 3",
   "language": "python",
   "name": "python3"
  },
  "language_info": {
   "codemirror_mode": {
    "name": "ipython",
    "version": 3
   },
   "file_extension": ".py",
   "mimetype": "text/x-python",
   "name": "python",
   "nbconvert_exporter": "python",
   "pygments_lexer": "ipython3",
   "version": "3.11.9"
  }
 },
 "nbformat": 4,
 "nbformat_minor": 2
}
