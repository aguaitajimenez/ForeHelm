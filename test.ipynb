{
 "cells": [
  {
   "cell_type": "markdown",
   "metadata": {},
   "source": [
    "Configure home directory and YOLO install"
   ]
  },
  {
   "cell_type": "code",
   "execution_count": 1,
   "metadata": {},
   "outputs": [
    {
     "name": "stdout",
     "output_type": "stream",
     "text": [
      "/home/tyche/ForeHelm\n"
     ]
    }
   ],
   "source": [
    "import os\n",
    "HOME = os.getcwd()\n",
    "print(HOME)\n",
    "\n"
   ]
  },
  {
   "cell_type": "markdown",
   "metadata": {},
   "source": [
    "Verify the correct yolo installation"
   ]
  },
  {
   "cell_type": "code",
   "execution_count": 2,
   "metadata": {},
   "outputs": [
    {
     "name": "stdout",
     "output_type": "stream",
     "text": [
      "Ultralytics 8.3.32 🚀 Python-3.11.2 torch-2.5.1 CPU (Cortex-A76)\n",
      "Setup complete ✅ (4 CPUs, 7.9 GB RAM, 12.4/58.0 GB disk)\n",
      "\n",
      "OS                  Linux-6.6.51+rpt-rpi-2712-aarch64-with-glibc2.36\n",
      "Environment         Linux\n",
      "Python              3.11.2\n",
      "Install             git\n",
      "RAM                 7.86 GB\n",
      "Disk                12.4/58.0 GB\n",
      "CPU                 Cortex-A76\n",
      "CPU count           4\n",
      "GPU                 None\n",
      "GPU count           None\n",
      "CUDA                None\n",
      "\n",
      "numpy               ✅ 2.1.3>=1.23.0\n",
      "matplotlib          ✅ 3.9.2>=3.3.0\n",
      "opencv-python       ✅ 4.10.0.84>=4.6.0\n",
      "pillow              ✅ 11.0.0>=7.1.2\n",
      "pyyaml              ✅ 6.0.2>=5.3.1\n",
      "requests            ✅ 2.32.3>=2.23.0\n",
      "scipy               ✅ 1.14.1>=1.4.1\n",
      "torch               ✅ 2.5.1>=1.8.0\n",
      "torchvision         ✅ 0.20.1>=0.9.0\n",
      "tqdm                ✅ 4.67.0>=4.64.0\n",
      "psutil              ✅ 6.1.0\n",
      "py-cpuinfo          ✅ 9.0.0\n",
      "pandas              ✅ 2.2.3>=1.1.4\n",
      "seaborn             ✅ 0.13.2>=0.11.0\n",
      "ultralytics-thop    ✅ 2.0.11>=2.0.0\n",
      "numpy               ✅ 2.1.3<2.0.0; sys_platform == \"darwin\"\n",
      "torch               ✅ 2.5.1!=2.4.0,>=1.8.0; sys_platform == \"win32\"\n"
     ]
    }
   ],
   "source": [
    "\n",
    "from IPython import display\n",
    "display.clear_output()\n",
    "!yolo checks\n",
    "\n",
    "from ultralytics import YOLO\n",
    "from IPython.display import display, Image"
   ]
  },
  {
   "cell_type": "code",
   "execution_count": null,
   "metadata": {},
   "outputs": [],
   "source": []
  }
 ],
 "metadata": {
  "kernelspec": {
   "display_name": ".venv",
   "language": "python",
   "name": "python3"
  },
  "language_info": {
   "codemirror_mode": {
    "name": "ipython",
    "version": 3
   },
   "file_extension": ".py",
   "mimetype": "text/x-python",
   "name": "python",
   "nbconvert_exporter": "python",
   "pygments_lexer": "ipython3",
   "version": "3.11.2"
  }
 },
 "nbformat": 4,
 "nbformat_minor": 2
}
