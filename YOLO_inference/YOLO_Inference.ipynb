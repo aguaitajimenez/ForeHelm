{
 "cells": [
  {
   "cell_type": "markdown",
   "metadata": {},
   "source": [
    "Configure home directory and YOLO install"
   ]
  },
  {
   "cell_type": "code",
   "execution_count": 44,
   "metadata": {},
   "outputs": [
    {
     "name": "stdout",
     "output_type": "stream",
     "text": [
      "/home/tyche/ForeHelm/YOLO_example\n",
      "Ultralytics 8.3.33 🚀 Python-3.11.2 torch-2.5.1 CPU (Cortex-A76)\n",
      "Setup complete ✅ (4 CPUs, 7.9 GB RAM, 17.4/58.0 GB disk)\n",
      "\n",
      "OS                  Linux-6.6.51+rpt-rpi-2712-aarch64-with-glibc2.36\n",
      "Environment         Linux\n",
      "Python              3.11.2\n",
      "Install             git\n",
      "RAM                 7.86 GB\n",
      "Disk                17.4/58.0 GB\n",
      "CPU                 Cortex-A76\n",
      "CPU count           4\n",
      "GPU                 None\n",
      "GPU count           None\n",
      "CUDA                None\n",
      "\n",
      "numpy               ✅ 2.1.3>=1.23.0\n",
      "matplotlib          ✅ 3.9.2>=3.3.0\n",
      "opencv-python       ✅ 4.10.0.84>=4.6.0\n",
      "pillow              ✅ 11.0.0>=7.1.2\n",
      "pyyaml              ✅ 6.0.2>=5.3.1\n",
      "requests            ✅ 2.32.3>=2.23.0\n",
      "scipy               ✅ 1.14.1>=1.4.1\n",
      "torch               ✅ 2.5.1>=1.8.0\n",
      "torchvision         ✅ 0.20.1>=0.9.0\n",
      "tqdm                ✅ 4.67.0>=4.64.0\n",
      "psutil              ✅ 6.1.0\n",
      "py-cpuinfo          ✅ 9.0.0\n",
      "pandas              ✅ 2.2.3>=1.1.4\n",
      "seaborn             ✅ 0.13.2>=0.11.0\n",
      "ultralytics-thop    ✅ 2.0.11>=2.0.0\n",
      "numpy               ✅ 2.1.3<2.0.0; sys_platform == \"darwin\"\n",
      "torch               ✅ 2.5.1!=2.4.0,>=1.8.0; sys_platform == \"win32\"\n"
     ]
    }
   ],
   "source": [
    "%reset -f\n",
    "import os\n",
    "HOME = os.getcwd()\n",
    "print(HOME)\n",
    "\n",
    "# Import YOLO\n",
    "!yolo checks\n",
    "from ultralytics import YOLO\n",
    "# from PIL import Image\n",
    "# from IPython import display\n",
    "# from IPython.display import Image, display\n",
    "\n",
    "from PIL import Image\n",
    "\n",
    "# Import CV2\n",
    "import cv2\n",
    "\n",
    "import time"
   ]
  },
  {
   "cell_type": "code",
   "execution_count": 55,
   "metadata": {},
   "outputs": [
    {
     "name": "stdout",
     "output_type": "stream",
     "text": [
      "WARNING ⚠️ 'source' is missing. Using 'source=/home/tyche/ForeHelm/.venv/lib/python3.11/site-packages/ultralytics/assets'.\n"
     ]
    },
    {
     "name": "stderr",
     "output_type": "stream",
     "text": [
      "[ WARN:0@2500.919] global cap_v4l.cpp:999 open VIDEOIO(V4L2:/dev/video0): can't open camera by index\n",
      "[ERROR:0@2500.921] global obsensor_uvc_stream_channel.cpp:158 getStreamChannelGroup Camera index out of range\n"
     ]
    },
    {
     "name": "stdout",
     "output_type": "stream",
     "text": [
      "\n",
      "image 1/2 /home/tyche/ForeHelm/.venv/lib/python3.11/site-packages/ultralytics/assets/bus.jpg: 640x480 4 persons, 1 bus, 615.8ms\n",
      "image 2/2 /home/tyche/ForeHelm/.venv/lib/python3.11/site-packages/ultralytics/assets/zidane.jpg: 384x640 2 persons, 525.8ms\n",
      "Speed: 9.4ms preprocess, 570.8ms inference, 2.7ms postprocess per image at shape (1, 3, 384, 640)\n",
      "615.8027648925781\n"
     ]
    }
   ],
   "source": [
    "cap = cv2.VideoCapture(0)\n",
    "cap.set(cv2.CAP_PROP_FRAME_WIDTH, 640)\n",
    "cap.set(cv2.CAP_PROP_FRAME_HEIGHT, 480)\n",
    "cap.set(cv2.CAP_PROP_FPS, 30)\n",
    "\n",
    "status, photo = cap.read()\n",
    "photo = cv2.convertScaleAbs(photo, alpha=1.3, beta=30)  # Increase brightness\n",
    "cap.release()\n",
    "\n",
    "# !yolo task=detect mode=predict model=yolov11n.pt conf=0.25 source='img/captured_image.jpg' project='runs'\n",
    "# Load a pretrained YOLOv11 model\n",
    "\n",
    "model = YOLO('yolo11n.pt')  # Choose the appropriate model variant\n",
    "results = model.predict(source=photo, save=False, conf=0.5)\n",
    "Image.fromarray(results[0].plot())\n",
    "print(results[0].speed[\"inference\"])\n",
    "\n"
   ]
  }
 ],
 "metadata": {
  "kernelspec": {
   "display_name": ".venv",
   "language": "python",
   "name": "python3"
  },
  "language_info": {
   "codemirror_mode": {
    "name": "ipython",
    "version": 3
   },
   "file_extension": ".py",
   "mimetype": "text/x-python",
   "name": "python",
   "nbconvert_exporter": "python",
   "pygments_lexer": "ipython3",
   "version": "3.11.2"
  }
 },
 "nbformat": 4,
 "nbformat_minor": 2
}
